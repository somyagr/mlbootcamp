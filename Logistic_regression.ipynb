{
 "cells": [
  {
   "cell_type": "markdown",
   "id": "dynamic-conditions",
   "metadata": {},
   "source": [
    "# **Importing the libraries**"
   ]
  },
  {
   "cell_type": "code",
   "execution_count": 1,
   "id": "incorporate-carry",
   "metadata": {},
   "outputs": [],
   "source": [
    "import numpy as np \n",
    "  \n",
    "import pandas as pd \n",
    "  \n",
    "import matplotlib.pyplot as plt \n",
    "\n",
    "import decimal "
   ]
  },
  {
   "cell_type": "markdown",
   "id": "freelance-zealand",
   "metadata": {},
   "source": [
    "# **Importing the datasets**"
   ]
  },
  {
   "cell_type": "code",
   "execution_count": 2,
   "id": "weird-carolina",
   "metadata": {},
   "outputs": [],
   "source": [
    "train_df = pd.read_csv(\"/home/somya/Downloads/mnist_train_small.csv\")\n",
    "test_df = pd.read_csv(\"/home/somya/Downloads/mnist_test.csv\")"
   ]
  },
  {
   "cell_type": "code",
   "execution_count": 3,
   "id": "provincial-coupon",
   "metadata": {},
   "outputs": [
    {
     "data": {
      "text/html": [
       "<div>\n",
       "<style scoped>\n",
       "    .dataframe tbody tr th:only-of-type {\n",
       "        vertical-align: middle;\n",
       "    }\n",
       "\n",
       "    .dataframe tbody tr th {\n",
       "        vertical-align: top;\n",
       "    }\n",
       "\n",
       "    .dataframe thead th {\n",
       "        text-align: right;\n",
       "    }\n",
       "</style>\n",
       "<table border=\"1\" class=\"dataframe\">\n",
       "  <thead>\n",
       "    <tr style=\"text-align: right;\">\n",
       "      <th></th>\n",
       "      <th>6</th>\n",
       "      <th>0</th>\n",
       "      <th>0.1</th>\n",
       "      <th>0.2</th>\n",
       "      <th>0.3</th>\n",
       "      <th>0.4</th>\n",
       "      <th>0.5</th>\n",
       "      <th>0.6</th>\n",
       "      <th>0.7</th>\n",
       "      <th>0.8</th>\n",
       "      <th>...</th>\n",
       "      <th>0.581</th>\n",
       "      <th>0.582</th>\n",
       "      <th>0.583</th>\n",
       "      <th>0.584</th>\n",
       "      <th>0.585</th>\n",
       "      <th>0.586</th>\n",
       "      <th>0.587</th>\n",
       "      <th>0.588</th>\n",
       "      <th>0.589</th>\n",
       "      <th>0.590</th>\n",
       "    </tr>\n",
       "  </thead>\n",
       "  <tbody>\n",
       "    <tr>\n",
       "      <th>0</th>\n",
       "      <td>5</td>\n",
       "      <td>0</td>\n",
       "      <td>0</td>\n",
       "      <td>0</td>\n",
       "      <td>0</td>\n",
       "      <td>0</td>\n",
       "      <td>0</td>\n",
       "      <td>0</td>\n",
       "      <td>0</td>\n",
       "      <td>0</td>\n",
       "      <td>...</td>\n",
       "      <td>0</td>\n",
       "      <td>0</td>\n",
       "      <td>0</td>\n",
       "      <td>0</td>\n",
       "      <td>0</td>\n",
       "      <td>0</td>\n",
       "      <td>0</td>\n",
       "      <td>0</td>\n",
       "      <td>0</td>\n",
       "      <td>0</td>\n",
       "    </tr>\n",
       "    <tr>\n",
       "      <th>1</th>\n",
       "      <td>7</td>\n",
       "      <td>0</td>\n",
       "      <td>0</td>\n",
       "      <td>0</td>\n",
       "      <td>0</td>\n",
       "      <td>0</td>\n",
       "      <td>0</td>\n",
       "      <td>0</td>\n",
       "      <td>0</td>\n",
       "      <td>0</td>\n",
       "      <td>...</td>\n",
       "      <td>0</td>\n",
       "      <td>0</td>\n",
       "      <td>0</td>\n",
       "      <td>0</td>\n",
       "      <td>0</td>\n",
       "      <td>0</td>\n",
       "      <td>0</td>\n",
       "      <td>0</td>\n",
       "      <td>0</td>\n",
       "      <td>0</td>\n",
       "    </tr>\n",
       "    <tr>\n",
       "      <th>2</th>\n",
       "      <td>9</td>\n",
       "      <td>0</td>\n",
       "      <td>0</td>\n",
       "      <td>0</td>\n",
       "      <td>0</td>\n",
       "      <td>0</td>\n",
       "      <td>0</td>\n",
       "      <td>0</td>\n",
       "      <td>0</td>\n",
       "      <td>0</td>\n",
       "      <td>...</td>\n",
       "      <td>0</td>\n",
       "      <td>0</td>\n",
       "      <td>0</td>\n",
       "      <td>0</td>\n",
       "      <td>0</td>\n",
       "      <td>0</td>\n",
       "      <td>0</td>\n",
       "      <td>0</td>\n",
       "      <td>0</td>\n",
       "      <td>0</td>\n",
       "    </tr>\n",
       "    <tr>\n",
       "      <th>3</th>\n",
       "      <td>5</td>\n",
       "      <td>0</td>\n",
       "      <td>0</td>\n",
       "      <td>0</td>\n",
       "      <td>0</td>\n",
       "      <td>0</td>\n",
       "      <td>0</td>\n",
       "      <td>0</td>\n",
       "      <td>0</td>\n",
       "      <td>0</td>\n",
       "      <td>...</td>\n",
       "      <td>0</td>\n",
       "      <td>0</td>\n",
       "      <td>0</td>\n",
       "      <td>0</td>\n",
       "      <td>0</td>\n",
       "      <td>0</td>\n",
       "      <td>0</td>\n",
       "      <td>0</td>\n",
       "      <td>0</td>\n",
       "      <td>0</td>\n",
       "    </tr>\n",
       "    <tr>\n",
       "      <th>4</th>\n",
       "      <td>2</td>\n",
       "      <td>0</td>\n",
       "      <td>0</td>\n",
       "      <td>0</td>\n",
       "      <td>0</td>\n",
       "      <td>0</td>\n",
       "      <td>0</td>\n",
       "      <td>0</td>\n",
       "      <td>0</td>\n",
       "      <td>0</td>\n",
       "      <td>...</td>\n",
       "      <td>0</td>\n",
       "      <td>0</td>\n",
       "      <td>0</td>\n",
       "      <td>0</td>\n",
       "      <td>0</td>\n",
       "      <td>0</td>\n",
       "      <td>0</td>\n",
       "      <td>0</td>\n",
       "      <td>0</td>\n",
       "      <td>0</td>\n",
       "    </tr>\n",
       "  </tbody>\n",
       "</table>\n",
       "<p>5 rows × 785 columns</p>\n",
       "</div>"
      ],
      "text/plain": [
       "   6  0  0.1  0.2  0.3  0.4  0.5  0.6  0.7  0.8  ...  0.581  0.582  0.583  \\\n",
       "0  5  0    0    0    0    0    0    0    0    0  ...      0      0      0   \n",
       "1  7  0    0    0    0    0    0    0    0    0  ...      0      0      0   \n",
       "2  9  0    0    0    0    0    0    0    0    0  ...      0      0      0   \n",
       "3  5  0    0    0    0    0    0    0    0    0  ...      0      0      0   \n",
       "4  2  0    0    0    0    0    0    0    0    0  ...      0      0      0   \n",
       "\n",
       "   0.584  0.585  0.586  0.587  0.588  0.589  0.590  \n",
       "0      0      0      0      0      0      0      0  \n",
       "1      0      0      0      0      0      0      0  \n",
       "2      0      0      0      0      0      0      0  \n",
       "3      0      0      0      0      0      0      0  \n",
       "4      0      0      0      0      0      0      0  \n",
       "\n",
       "[5 rows x 785 columns]"
      ]
     },
     "execution_count": 3,
     "metadata": {},
     "output_type": "execute_result"
    }
   ],
   "source": [
    "train_df.head()"
   ]
  },
  {
   "cell_type": "code",
   "execution_count": 4,
   "id": "reverse-medicine",
   "metadata": {
    "scrolled": true
   },
   "outputs": [
    {
     "data": {
      "text/html": [
       "<div>\n",
       "<style scoped>\n",
       "    .dataframe tbody tr th:only-of-type {\n",
       "        vertical-align: middle;\n",
       "    }\n",
       "\n",
       "    .dataframe tbody tr th {\n",
       "        vertical-align: top;\n",
       "    }\n",
       "\n",
       "    .dataframe thead th {\n",
       "        text-align: right;\n",
       "    }\n",
       "</style>\n",
       "<table border=\"1\" class=\"dataframe\">\n",
       "  <thead>\n",
       "    <tr style=\"text-align: right;\">\n",
       "      <th></th>\n",
       "      <th>7</th>\n",
       "      <th>0</th>\n",
       "      <th>0.1</th>\n",
       "      <th>0.2</th>\n",
       "      <th>0.3</th>\n",
       "      <th>0.4</th>\n",
       "      <th>0.5</th>\n",
       "      <th>0.6</th>\n",
       "      <th>0.7</th>\n",
       "      <th>0.8</th>\n",
       "      <th>...</th>\n",
       "      <th>0.658</th>\n",
       "      <th>0.659</th>\n",
       "      <th>0.660</th>\n",
       "      <th>0.661</th>\n",
       "      <th>0.662</th>\n",
       "      <th>0.663</th>\n",
       "      <th>0.664</th>\n",
       "      <th>0.665</th>\n",
       "      <th>0.666</th>\n",
       "      <th>0.667</th>\n",
       "    </tr>\n",
       "  </thead>\n",
       "  <tbody>\n",
       "    <tr>\n",
       "      <th>0</th>\n",
       "      <td>2</td>\n",
       "      <td>0</td>\n",
       "      <td>0</td>\n",
       "      <td>0</td>\n",
       "      <td>0</td>\n",
       "      <td>0</td>\n",
       "      <td>0</td>\n",
       "      <td>0.0</td>\n",
       "      <td>0.0</td>\n",
       "      <td>0.0</td>\n",
       "      <td>...</td>\n",
       "      <td>0.0</td>\n",
       "      <td>0.0</td>\n",
       "      <td>0.0</td>\n",
       "      <td>0.0</td>\n",
       "      <td>0.0</td>\n",
       "      <td>0.0</td>\n",
       "      <td>0.0</td>\n",
       "      <td>0.0</td>\n",
       "      <td>0.0</td>\n",
       "      <td>0.0</td>\n",
       "    </tr>\n",
       "    <tr>\n",
       "      <th>1</th>\n",
       "      <td>1</td>\n",
       "      <td>0</td>\n",
       "      <td>0</td>\n",
       "      <td>0</td>\n",
       "      <td>0</td>\n",
       "      <td>0</td>\n",
       "      <td>0</td>\n",
       "      <td>0.0</td>\n",
       "      <td>0.0</td>\n",
       "      <td>0.0</td>\n",
       "      <td>...</td>\n",
       "      <td>0.0</td>\n",
       "      <td>0.0</td>\n",
       "      <td>0.0</td>\n",
       "      <td>0.0</td>\n",
       "      <td>0.0</td>\n",
       "      <td>0.0</td>\n",
       "      <td>0.0</td>\n",
       "      <td>0.0</td>\n",
       "      <td>0.0</td>\n",
       "      <td>0.0</td>\n",
       "    </tr>\n",
       "    <tr>\n",
       "      <th>2</th>\n",
       "      <td>0</td>\n",
       "      <td>0</td>\n",
       "      <td>0</td>\n",
       "      <td>0</td>\n",
       "      <td>0</td>\n",
       "      <td>0</td>\n",
       "      <td>0</td>\n",
       "      <td>0.0</td>\n",
       "      <td>0.0</td>\n",
       "      <td>0.0</td>\n",
       "      <td>...</td>\n",
       "      <td>0.0</td>\n",
       "      <td>0.0</td>\n",
       "      <td>0.0</td>\n",
       "      <td>0.0</td>\n",
       "      <td>0.0</td>\n",
       "      <td>0.0</td>\n",
       "      <td>0.0</td>\n",
       "      <td>0.0</td>\n",
       "      <td>0.0</td>\n",
       "      <td>0.0</td>\n",
       "    </tr>\n",
       "    <tr>\n",
       "      <th>3</th>\n",
       "      <td>4</td>\n",
       "      <td>0</td>\n",
       "      <td>0</td>\n",
       "      <td>0</td>\n",
       "      <td>0</td>\n",
       "      <td>0</td>\n",
       "      <td>0</td>\n",
       "      <td>0.0</td>\n",
       "      <td>0.0</td>\n",
       "      <td>0.0</td>\n",
       "      <td>...</td>\n",
       "      <td>0.0</td>\n",
       "      <td>0.0</td>\n",
       "      <td>0.0</td>\n",
       "      <td>0.0</td>\n",
       "      <td>0.0</td>\n",
       "      <td>0.0</td>\n",
       "      <td>0.0</td>\n",
       "      <td>0.0</td>\n",
       "      <td>0.0</td>\n",
       "      <td>0.0</td>\n",
       "    </tr>\n",
       "    <tr>\n",
       "      <th>4</th>\n",
       "      <td>1</td>\n",
       "      <td>0</td>\n",
       "      <td>0</td>\n",
       "      <td>0</td>\n",
       "      <td>0</td>\n",
       "      <td>0</td>\n",
       "      <td>0</td>\n",
       "      <td>0.0</td>\n",
       "      <td>0.0</td>\n",
       "      <td>0.0</td>\n",
       "      <td>...</td>\n",
       "      <td>0.0</td>\n",
       "      <td>0.0</td>\n",
       "      <td>0.0</td>\n",
       "      <td>0.0</td>\n",
       "      <td>0.0</td>\n",
       "      <td>0.0</td>\n",
       "      <td>0.0</td>\n",
       "      <td>0.0</td>\n",
       "      <td>0.0</td>\n",
       "      <td>0.0</td>\n",
       "    </tr>\n",
       "  </tbody>\n",
       "</table>\n",
       "<p>5 rows × 785 columns</p>\n",
       "</div>"
      ],
      "text/plain": [
       "   7  0  0.1  0.2  0.3  0.4  0.5  0.6  0.7  0.8  ...  0.658  0.659  0.660  \\\n",
       "0  2  0    0    0    0    0    0  0.0  0.0  0.0  ...    0.0    0.0    0.0   \n",
       "1  1  0    0    0    0    0    0  0.0  0.0  0.0  ...    0.0    0.0    0.0   \n",
       "2  0  0    0    0    0    0    0  0.0  0.0  0.0  ...    0.0    0.0    0.0   \n",
       "3  4  0    0    0    0    0    0  0.0  0.0  0.0  ...    0.0    0.0    0.0   \n",
       "4  1  0    0    0    0    0    0  0.0  0.0  0.0  ...    0.0    0.0    0.0   \n",
       "\n",
       "   0.661  0.662  0.663  0.664  0.665  0.666  0.667  \n",
       "0    0.0    0.0    0.0    0.0    0.0    0.0    0.0  \n",
       "1    0.0    0.0    0.0    0.0    0.0    0.0    0.0  \n",
       "2    0.0    0.0    0.0    0.0    0.0    0.0    0.0  \n",
       "3    0.0    0.0    0.0    0.0    0.0    0.0    0.0  \n",
       "4    0.0    0.0    0.0    0.0    0.0    0.0    0.0  \n",
       "\n",
       "[5 rows x 785 columns]"
      ]
     },
     "execution_count": 4,
     "metadata": {},
     "output_type": "execute_result"
    }
   ],
   "source": [
    "test_df.head()"
   ]
  },
  {
   "cell_type": "markdown",
   "id": "loving-trouble",
   "metadata": {},
   "source": [
    "# **Arranging the training dataset**"
   ]
  },
  {
   "cell_type": "code",
   "execution_count": 5,
   "id": "cathedral-african",
   "metadata": {},
   "outputs": [],
   "source": [
    "x1 = train_df.drop(['6'], axis = 1).values\n",
    "\n",
    "x0_train = np.ones((np.shape(x1)[0],1))\n",
    "\n",
    "x_train = np.hstack((x0_train,x1))"
   ]
  },
  {
   "cell_type": "code",
   "execution_count": 6,
   "id": "independent-respect",
   "metadata": {},
   "outputs": [
    {
     "name": "stdout",
     "output_type": "stream",
     "text": [
      "[[1. 0. 0. ... 0. 0. 0.]\n",
      " [1. 0. 0. ... 0. 0. 0.]\n",
      " [1. 0. 0. ... 0. 0. 0.]\n",
      " ...\n",
      " [1. 0. 0. ... 0. 0. 0.]\n",
      " [1. 0. 0. ... 0. 0. 0.]\n",
      " [1. 0. 0. ... 0. 0. 0.]]\n",
      "(19999, 785)\n"
     ]
    }
   ],
   "source": [
    "print(x_train)\n",
    "print(x_train.shape)"
   ]
  },
  {
   "cell_type": "code",
   "execution_count": 7,
   "id": "assisted-detroit",
   "metadata": {},
   "outputs": [],
   "source": [
    "y1 = train_df['6']\n",
    "y_train = y1.to_numpy()\n",
    "y_train = np.vstack(y_train)"
   ]
  },
  {
   "cell_type": "code",
   "execution_count": 8,
   "id": "advised-cooperation",
   "metadata": {},
   "outputs": [
    {
     "name": "stdout",
     "output_type": "stream",
     "text": [
      "[[5]\n",
      " [7]\n",
      " [9]\n",
      " ...\n",
      " [2]\n",
      " [9]\n",
      " [5]]\n",
      "(19999, 1)\n"
     ]
    }
   ],
   "source": [
    "print(y_train)\n",
    "print(y_train.shape)"
   ]
  },
  {
   "cell_type": "markdown",
   "id": "subjective-advancement",
   "metadata": {},
   "source": [
    "# **Arranging the test dataset**"
   ]
  },
  {
   "cell_type": "code",
   "execution_count": 9,
   "id": "modern-mauritius",
   "metadata": {},
   "outputs": [],
   "source": [
    "x2 = test_df.drop(index = 1942 , columns ='7').values\n",
    "\n",
    "x0_test = np.ones((np.shape(x2)[0],1))\n",
    "\n",
    "x_test = np.hstack((x0_test,x2))"
   ]
  },
  {
   "cell_type": "code",
   "execution_count": 10,
   "id": "cross-operations",
   "metadata": {},
   "outputs": [
    {
     "name": "stdout",
     "output_type": "stream",
     "text": [
      "[[1. 0. 0. ... 0. 0. 0.]\n",
      " [1. 0. 0. ... 0. 0. 0.]\n",
      " [1. 0. 0. ... 0. 0. 0.]\n",
      " ...\n",
      " [1. 0. 0. ... 0. 0. 0.]\n",
      " [1. 0. 0. ... 0. 0. 0.]\n",
      " [1. 0. 0. ... 0. 0. 0.]]\n",
      "(1942, 785)\n"
     ]
    }
   ],
   "source": [
    "print(x_test)\n",
    "print(x_test.shape)"
   ]
  },
  {
   "cell_type": "code",
   "execution_count": 11,
   "id": "cognitive-territory",
   "metadata": {},
   "outputs": [],
   "source": [
    "y2 = test_df['7']\n",
    "y_test = y2.drop(index = 1942).values\n",
    "y_test = np.vstack(y_test)"
   ]
  },
  {
   "cell_type": "code",
   "execution_count": 12,
   "id": "informative-feeling",
   "metadata": {},
   "outputs": [
    {
     "name": "stdout",
     "output_type": "stream",
     "text": [
      "[[2]\n",
      " [1]\n",
      " [0]\n",
      " ...\n",
      " [5]\n",
      " [7]\n",
      " [8]]\n",
      "(1942, 1)\n"
     ]
    }
   ],
   "source": [
    "print(y_test)\n",
    "print(y_test.shape)"
   ]
  },
  {
   "cell_type": "markdown",
   "id": "collective-client",
   "metadata": {},
   "source": [
    "# **Visualising the data**"
   ]
  },
  {
   "cell_type": "code",
   "execution_count": 13,
   "id": "intimate-soundtrack",
   "metadata": {},
   "outputs": [],
   "source": [
    "digit = x1[0]\n",
    "digit_image = digit.reshape(28,28)"
   ]
  },
  {
   "cell_type": "code",
   "execution_count": 14,
   "id": "optional-artist",
   "metadata": {},
   "outputs": [
    {
     "data": {
      "text/plain": [
       "<matplotlib.image.AxesImage at 0x7f64d166e850>"
      ]
     },
     "execution_count": 14,
     "metadata": {},
     "output_type": "execute_result"
    },
    {
     "data": {
      "image/png": "[encoded data removed]",
      "text/plain": [
       "<Figure size 432x288 with 1 Axes>"
      ]
     },
     "metadata": {
      "needs_background": "light"
     },
     "output_type": "display_data"
    }
   ],
   "source": [
    "plt.imshow(digit_image, cmap = plt.cm.binary)"
   ]
  },
  {
   "cell_type": "markdown",
   "id": "protected-anthropology",
   "metadata": {},
   "source": [
    "# **Implementation of model**"
   ]
  },
  {
   "cell_type": "code",
   "execution_count": 15,
   "id": "baking-smith",
   "metadata": {},
   "outputs": [
    {
     "data": {
      "text/plain": [
       "array([0, 1, 2, 3, 4, 5, 6, 7, 8, 9])"
      ]
     },
     "execution_count": 15,
     "metadata": {},
     "output_type": "execute_result"
    }
   ],
   "source": [
    "np.unique(y_train)"
   ]
  },
  {
   "cell_type": "code",
   "execution_count": 16,
   "id": "accomplished-carol",
   "metadata": {},
   "outputs": [
    {
     "name": "stdout",
     "output_type": "stream",
     "text": [
      "[[0. 0. 0. ... 0. 0. 0.]\n",
      " [0. 0. 0. ... 1. 0. 0.]\n",
      " [0. 0. 0. ... 0. 0. 1.]\n",
      " ...\n",
      " [0. 0. 1. ... 0. 0. 0.]\n",
      " [0. 0. 0. ... 0. 0. 1.]\n",
      " [0. 0. 0. ... 0. 0. 0.]]\n"
     ]
    }
   ],
   "source": [
    "y_enc = np.zeros([y_train.shape[0], np.unique(y_train).shape[0]])\n",
    "\n",
    "for i in range(np.unique(y_train).shape[0]):\n",
    "    \n",
    "    for j in range(0, len(y_enc)):\n",
    "        \n",
    "        if (y_train[j] == np.unique(y_train)[i]):\n",
    "            \n",
    "            y_enc[j, i] = 1\n",
    "            \n",
    "print(y_enc)"
   ]
  },
  {
   "cell_type": "code",
   "execution_count": 17,
   "id": "sized-color",
   "metadata": {},
   "outputs": [
    {
     "data": {
      "text/plain": [
       "(19999, 10)"
      ]
     },
     "execution_count": 17,
     "metadata": {},
     "output_type": "execute_result"
    }
   ],
   "source": [
    "y_enc.shape"
   ]
  },
  {
   "cell_type": "code",
   "execution_count": 18,
   "id": "liable-mustang",
   "metadata": {},
   "outputs": [
    {
     "data": {
      "text/plain": [
       "(785, 10)"
      ]
     },
     "execution_count": 18,
     "metadata": {},
     "output_type": "execute_result"
    }
   ],
   "source": [
    "theta = np.zeros((x_train.shape[1], y_enc.shape[1]))\n",
    "theta.shape"
   ]
  },
  {
   "cell_type": "code",
   "execution_count": 19,
   "id": "economic-genesis",
   "metadata": {},
   "outputs": [],
   "source": [
    "def hypothesis(theta, x):\n",
    "    \n",
    "    z = np.dot(x, theta)\n",
    "    \n",
    "    sigmoid = np.array(1/(1 + (np.exp(-z))))                \n",
    "        \n",
    "    return sigmoid"
   ]
  },
  {
   "cell_type": "code",
   "execution_count": 20,
   "id": "streaming-simulation",
   "metadata": {},
   "outputs": [],
   "source": [
    "def cost_function(x, y, theta):\n",
    "        \n",
    "    y1 = -y * np.log(hypothesis(theta, x))\n",
    "        \n",
    "    y0 = -(1 - y) * np.log(1 - hypothesis(theta, x))\n",
    "        \n",
    "    return np.sum(y1 + y0) / x.shape[0]"
   ]
  },
  {
   "cell_type": "code",
   "execution_count": 21,
   "id": "shared-hungarian",
   "metadata": {},
   "outputs": [],
   "source": [
    "def gradient_descent(x, y, theta, learning_rate, iterations):\n",
    "\n",
    "    for i in range(iterations):\n",
    "        \n",
    "        for j in range(theta.shape[1]):\n",
    "            \n",
    "            h = hypothesis(theta[:,j], x)\n",
    "                \n",
    "            theta[:,j] = theta[:,j] - (learning_rate/x.shape[0]) * np.dot(x.T,(h-y[:,j]))\n",
    "\n",
    "    return theta"
   ]
  },
  {
   "cell_type": "code",
   "execution_count": 22,
   "id": "charitable-discharge",
   "metadata": {
    "scrolled": true
   },
   "outputs": [],
   "source": [
    "x_train = x_train/255\n",
    "x_test = x_test/255\n",
    "\n",
    "theta = gradient_descent(x_train, y_enc, theta,0.95,900)"
   ]
  },
  {
   "cell_type": "code",
   "execution_count": 23,
   "id": "collect-bryan",
   "metadata": {
    "scrolled": false
   },
   "outputs": [
    {
     "name": "stdout",
     "output_type": "stream",
     "text": [
      "[[-0.01262956 -0.00330029 -0.01572885 ... -0.00549683 -0.05339802\n",
      "  -0.02490309]\n",
      " [ 0.          0.          0.         ...  0.          0.\n",
      "   0.        ]\n",
      " [ 0.          0.          0.         ...  0.          0.\n",
      "   0.        ]\n",
      " ...\n",
      " [ 0.          0.          0.         ...  0.          0.\n",
      "   0.        ]\n",
      " [ 0.          0.          0.         ...  0.          0.\n",
      "   0.        ]\n",
      " [ 0.          0.          0.         ...  0.          0.\n",
      "   0.        ]]\n"
     ]
    },
    {
     "data": {
      "text/plain": [
       "(785, 10)"
      ]
     },
     "execution_count": 23,
     "metadata": {},
     "output_type": "execute_result"
    }
   ],
   "source": [
    "print(theta)\n",
    "theta.shape"
   ]
  },
  {
   "cell_type": "code",
   "execution_count": 24,
   "id": "italic-kelly",
   "metadata": {},
   "outputs": [
    {
     "data": {
      "text/html": [
       "<div>\n",
       "<style scoped>\n",
       "    .dataframe tbody tr th:only-of-type {\n",
       "        vertical-align: middle;\n",
       "    }\n",
       "\n",
       "    .dataframe tbody tr th {\n",
       "        vertical-align: top;\n",
       "    }\n",
       "\n",
       "    .dataframe thead th {\n",
       "        text-align: right;\n",
       "    }\n",
       "</style>\n",
       "<table border=\"1\" class=\"dataframe\">\n",
       "  <thead>\n",
       "    <tr style=\"text-align: right;\">\n",
       "      <th></th>\n",
       "      <th>0</th>\n",
       "      <th>1</th>\n",
       "      <th>2</th>\n",
       "      <th>3</th>\n",
       "      <th>4</th>\n",
       "      <th>5</th>\n",
       "      <th>6</th>\n",
       "      <th>7</th>\n",
       "      <th>8</th>\n",
       "      <th>9</th>\n",
       "    </tr>\n",
       "  </thead>\n",
       "  <tbody>\n",
       "    <tr>\n",
       "      <th>0</th>\n",
       "      <td>-0.01263</td>\n",
       "      <td>-0.003300</td>\n",
       "      <td>-0.015729</td>\n",
       "      <td>-0.021045</td>\n",
       "      <td>-0.009473</td>\n",
       "      <td>-0.002742</td>\n",
       "      <td>-0.012965</td>\n",
       "      <td>-0.005497</td>\n",
       "      <td>-0.053398</td>\n",
       "      <td>-0.024903</td>\n",
       "    </tr>\n",
       "    <tr>\n",
       "      <th>1</th>\n",
       "      <td>0.00000</td>\n",
       "      <td>0.000000</td>\n",
       "      <td>0.000000</td>\n",
       "      <td>0.000000</td>\n",
       "      <td>0.000000</td>\n",
       "      <td>0.000000</td>\n",
       "      <td>0.000000</td>\n",
       "      <td>0.000000</td>\n",
       "      <td>0.000000</td>\n",
       "      <td>0.000000</td>\n",
       "    </tr>\n",
       "    <tr>\n",
       "      <th>2</th>\n",
       "      <td>0.00000</td>\n",
       "      <td>0.000000</td>\n",
       "      <td>0.000000</td>\n",
       "      <td>0.000000</td>\n",
       "      <td>0.000000</td>\n",
       "      <td>0.000000</td>\n",
       "      <td>0.000000</td>\n",
       "      <td>0.000000</td>\n",
       "      <td>0.000000</td>\n",
       "      <td>0.000000</td>\n",
       "    </tr>\n",
       "    <tr>\n",
       "      <th>3</th>\n",
       "      <td>0.00000</td>\n",
       "      <td>0.000000</td>\n",
       "      <td>0.000000</td>\n",
       "      <td>0.000000</td>\n",
       "      <td>0.000000</td>\n",
       "      <td>0.000000</td>\n",
       "      <td>0.000000</td>\n",
       "      <td>0.000000</td>\n",
       "      <td>0.000000</td>\n",
       "      <td>0.000000</td>\n",
       "    </tr>\n",
       "    <tr>\n",
       "      <th>4</th>\n",
       "      <td>0.00000</td>\n",
       "      <td>0.000000</td>\n",
       "      <td>0.000000</td>\n",
       "      <td>0.000000</td>\n",
       "      <td>0.000000</td>\n",
       "      <td>0.000000</td>\n",
       "      <td>0.000000</td>\n",
       "      <td>0.000000</td>\n",
       "      <td>0.000000</td>\n",
       "      <td>0.000000</td>\n",
       "    </tr>\n",
       "    <tr>\n",
       "      <th>...</th>\n",
       "      <td>...</td>\n",
       "      <td>...</td>\n",
       "      <td>...</td>\n",
       "      <td>...</td>\n",
       "      <td>...</td>\n",
       "      <td>...</td>\n",
       "      <td>...</td>\n",
       "      <td>...</td>\n",
       "      <td>...</td>\n",
       "      <td>...</td>\n",
       "    </tr>\n",
       "    <tr>\n",
       "      <th>780</th>\n",
       "      <td>-0.01139</td>\n",
       "      <td>-0.000032</td>\n",
       "      <td>-0.000142</td>\n",
       "      <td>-0.000168</td>\n",
       "      <td>-0.001875</td>\n",
       "      <td>-0.000413</td>\n",
       "      <td>-0.000155</td>\n",
       "      <td>0.008959</td>\n",
       "      <td>-0.000789</td>\n",
       "      <td>-0.002404</td>\n",
       "    </tr>\n",
       "    <tr>\n",
       "      <th>781</th>\n",
       "      <td>0.00000</td>\n",
       "      <td>0.000000</td>\n",
       "      <td>0.000000</td>\n",
       "      <td>0.000000</td>\n",
       "      <td>0.000000</td>\n",
       "      <td>0.000000</td>\n",
       "      <td>0.000000</td>\n",
       "      <td>0.000000</td>\n",
       "      <td>0.000000</td>\n",
       "      <td>0.000000</td>\n",
       "    </tr>\n",
       "    <tr>\n",
       "      <th>782</th>\n",
       "      <td>0.00000</td>\n",
       "      <td>0.000000</td>\n",
       "      <td>0.000000</td>\n",
       "      <td>0.000000</td>\n",
       "      <td>0.000000</td>\n",
       "      <td>0.000000</td>\n",
       "      <td>0.000000</td>\n",
       "      <td>0.000000</td>\n",
       "      <td>0.000000</td>\n",
       "      <td>0.000000</td>\n",
       "    </tr>\n",
       "    <tr>\n",
       "      <th>783</th>\n",
       "      <td>0.00000</td>\n",
       "      <td>0.000000</td>\n",
       "      <td>0.000000</td>\n",
       "      <td>0.000000</td>\n",
       "      <td>0.000000</td>\n",
       "      <td>0.000000</td>\n",
       "      <td>0.000000</td>\n",
       "      <td>0.000000</td>\n",
       "      <td>0.000000</td>\n",
       "      <td>0.000000</td>\n",
       "    </tr>\n",
       "    <tr>\n",
       "      <th>784</th>\n",
       "      <td>0.00000</td>\n",
       "      <td>0.000000</td>\n",
       "      <td>0.000000</td>\n",
       "      <td>0.000000</td>\n",
       "      <td>0.000000</td>\n",
       "      <td>0.000000</td>\n",
       "      <td>0.000000</td>\n",
       "      <td>0.000000</td>\n",
       "      <td>0.000000</td>\n",
       "      <td>0.000000</td>\n",
       "    </tr>\n",
       "  </tbody>\n",
       "</table>\n",
       "<p>785 rows × 10 columns</p>\n",
       "</div>"
      ],
      "text/plain": [
       "           0         1         2         3         4         5         6  \\\n",
       "0   -0.01263 -0.003300 -0.015729 -0.021045 -0.009473 -0.002742 -0.012965   \n",
       "1    0.00000  0.000000  0.000000  0.000000  0.000000  0.000000  0.000000   \n",
       "2    0.00000  0.000000  0.000000  0.000000  0.000000  0.000000  0.000000   \n",
       "3    0.00000  0.000000  0.000000  0.000000  0.000000  0.000000  0.000000   \n",
       "4    0.00000  0.000000  0.000000  0.000000  0.000000  0.000000  0.000000   \n",
       "..       ...       ...       ...       ...       ...       ...       ...   \n",
       "780 -0.01139 -0.000032 -0.000142 -0.000168 -0.001875 -0.000413 -0.000155   \n",
       "781  0.00000  0.000000  0.000000  0.000000  0.000000  0.000000  0.000000   \n",
       "782  0.00000  0.000000  0.000000  0.000000  0.000000  0.000000  0.000000   \n",
       "783  0.00000  0.000000  0.000000  0.000000  0.000000  0.000000  0.000000   \n",
       "784  0.00000  0.000000  0.000000  0.000000  0.000000  0.000000  0.000000   \n",
       "\n",
       "            7         8         9  \n",
       "0   -0.005497 -0.053398 -0.024903  \n",
       "1    0.000000  0.000000  0.000000  \n",
       "2    0.000000  0.000000  0.000000  \n",
       "3    0.000000  0.000000  0.000000  \n",
       "4    0.000000  0.000000  0.000000  \n",
       "..        ...       ...       ...  \n",
       "780  0.008959 -0.000789 -0.002404  \n",
       "781  0.000000  0.000000  0.000000  \n",
       "782  0.000000  0.000000  0.000000  \n",
       "783  0.000000  0.000000  0.000000  \n",
       "784  0.000000  0.000000  0.000000  \n",
       "\n",
       "[785 rows x 10 columns]"
      ]
     },
     "execution_count": 24,
     "metadata": {},
     "output_type": "execute_result"
    }
   ],
   "source": [
    "theta1 = pd.DataFrame(theta)\n",
    "theta1"
   ]
  },
  {
   "cell_type": "code",
   "execution_count": 25,
   "id": "boxed-exclusion",
   "metadata": {},
   "outputs": [
    {
     "name": "stdout",
     "output_type": "stream",
     "text": [
      "[[0. 0. 1. ... 0. 0. 0.]\n",
      " [0. 1. 0. ... 0. 0. 0.]\n",
      " [1. 0. 0. ... 0. 0. 0.]\n",
      " ...\n",
      " [0. 0. 0. ... 0. 0. 0.]\n",
      " [0. 0. 0. ... 1. 0. 0.]\n",
      " [0. 0. 0. ... 0. 1. 0.]]\n"
     ]
    }
   ],
   "source": [
    "y_enc = np.zeros([y_test.shape[0], np.unique(y_test).shape[0]])\n",
    "\n",
    "for i in range(np.unique(y_test).shape[0]):\n",
    "    \n",
    "    for j in range(0, len(y_enc)):\n",
    "        \n",
    "        if (y_test[j] == np.unique(y_test)[i]):\n",
    "            \n",
    "            y_enc[j, i] = 1\n",
    "            \n",
    "print(y_enc)"
   ]
  },
  {
   "cell_type": "code",
   "execution_count": 26,
   "id": "green-chicago",
   "metadata": {},
   "outputs": [],
   "source": [
    "output = np.empty((y_enc.shape[1], y_enc.shape[0]))\n",
    "\n",
    "for i in range(y_enc.shape[1]):\n",
    "\n",
    "    #h = hypothesis(theta[:,i], x_train)\n",
    "    h = hypothesis(theta[:,i], x_test)\n",
    "    \n",
    "    output[i] = h"
   ]
  },
  {
   "cell_type": "code",
   "execution_count": 27,
   "id": "arranged-satellite",
   "metadata": {
    "scrolled": true
   },
   "outputs": [
    {
     "name": "stdout",
     "output_type": "stream",
     "text": [
      "[[8.20269615e-03 1.12396192e-04 9.74198515e-01 ... 9.99109552e-01\n",
      "  8.83315363e-03 6.84702066e-04]\n",
      " [1.92287051e-05 9.73482424e-01 2.07581434e-11 ... 2.73968918e-07\n",
      "  5.75953037e-06 5.16709359e-03]\n",
      " [9.75050774e-01 4.61162063e-02 7.41063517e-04 ... 2.18909006e-05\n",
      "  3.09347145e-02 5.95933635e-02]\n",
      " ...\n",
      " [3.05002827e-10 2.51496004e-02 2.46977602e-04 ... 9.62469885e-05\n",
      "  3.21978764e-01 2.03291236e-03]\n",
      " [7.20199197e-03 2.81408349e-02 1.05181879e-04 ... 2.42161641e-01\n",
      "  1.96203584e-01 5.85600279e-01]\n",
      " [5.14983214e-08 8.40596108e-03 3.57780823e-05 ... 1.76184947e-03\n",
      "  1.21610167e-02 1.16485373e-03]]\n"
     ]
    },
    {
     "data": {
      "text/plain": [
       "(10, 1942)"
      ]
     },
     "execution_count": 27,
     "metadata": {},
     "output_type": "execute_result"
    }
   ],
   "source": [
    "print(output)\n",
    "output.shape"
   ]
  },
  {
   "cell_type": "code",
   "execution_count": 28,
   "id": "burning-liberia",
   "metadata": {},
   "outputs": [
    {
     "data": {
      "text/html": [
       "<div>\n",
       "<style scoped>\n",
       "    .dataframe tbody tr th:only-of-type {\n",
       "        vertical-align: middle;\n",
       "    }\n",
       "\n",
       "    .dataframe tbody tr th {\n",
       "        vertical-align: top;\n",
       "    }\n",
       "\n",
       "    .dataframe thead th {\n",
       "        text-align: right;\n",
       "    }\n",
       "</style>\n",
       "<table border=\"1\" class=\"dataframe\">\n",
       "  <thead>\n",
       "    <tr style=\"text-align: right;\">\n",
       "      <th></th>\n",
       "      <th>0</th>\n",
       "      <th>1</th>\n",
       "      <th>2</th>\n",
       "      <th>3</th>\n",
       "      <th>4</th>\n",
       "      <th>5</th>\n",
       "      <th>6</th>\n",
       "      <th>7</th>\n",
       "      <th>8</th>\n",
       "      <th>9</th>\n",
       "      <th>...</th>\n",
       "      <th>1932</th>\n",
       "      <th>1933</th>\n",
       "      <th>1934</th>\n",
       "      <th>1935</th>\n",
       "      <th>1936</th>\n",
       "      <th>1937</th>\n",
       "      <th>1938</th>\n",
       "      <th>1939</th>\n",
       "      <th>1940</th>\n",
       "      <th>1941</th>\n",
       "    </tr>\n",
       "  </thead>\n",
       "  <tbody>\n",
       "    <tr>\n",
       "      <th>0</th>\n",
       "      <td>8.202696e-03</td>\n",
       "      <td>0.000112</td>\n",
       "      <td>9.741985e-01</td>\n",
       "      <td>0.002886</td>\n",
       "      <td>0.000013</td>\n",
       "      <td>0.000063</td>\n",
       "      <td>0.000002</td>\n",
       "      <td>9.837819e-04</td>\n",
       "      <td>4.475924e-05</td>\n",
       "      <td>9.601843e-01</td>\n",
       "      <td>...</td>\n",
       "      <td>0.000022</td>\n",
       "      <td>6.581381e-07</td>\n",
       "      <td>0.003999</td>\n",
       "      <td>1.237885e-06</td>\n",
       "      <td>5.651738e-06</td>\n",
       "      <td>0.019500</td>\n",
       "      <td>0.000004</td>\n",
       "      <td>9.991096e-01</td>\n",
       "      <td>8.833154e-03</td>\n",
       "      <td>0.000685</td>\n",
       "    </tr>\n",
       "    <tr>\n",
       "      <th>1</th>\n",
       "      <td>1.922871e-05</td>\n",
       "      <td>0.973482</td>\n",
       "      <td>2.075814e-11</td>\n",
       "      <td>0.000009</td>\n",
       "      <td>0.984033</td>\n",
       "      <td>0.000016</td>\n",
       "      <td>0.004211</td>\n",
       "      <td>7.584725e-06</td>\n",
       "      <td>1.478761e-08</td>\n",
       "      <td>2.254396e-08</td>\n",
       "      <td>...</td>\n",
       "      <td>0.000049</td>\n",
       "      <td>9.931269e-01</td>\n",
       "      <td>0.000220</td>\n",
       "      <td>5.094812e-08</td>\n",
       "      <td>2.303213e-04</td>\n",
       "      <td>0.000001</td>\n",
       "      <td>0.979974</td>\n",
       "      <td>2.739689e-07</td>\n",
       "      <td>5.759530e-06</td>\n",
       "      <td>0.005167</td>\n",
       "    </tr>\n",
       "    <tr>\n",
       "      <th>2</th>\n",
       "      <td>9.750508e-01</td>\n",
       "      <td>0.046116</td>\n",
       "      <td>7.410635e-04</td>\n",
       "      <td>0.010319</td>\n",
       "      <td>0.012384</td>\n",
       "      <td>0.000002</td>\n",
       "      <td>0.002625</td>\n",
       "      <td>1.352400e-03</td>\n",
       "      <td>1.815102e-07</td>\n",
       "      <td>3.199552e-02</td>\n",
       "      <td>...</td>\n",
       "      <td>0.211663</td>\n",
       "      <td>5.515190e-03</td>\n",
       "      <td>0.010756</td>\n",
       "      <td>9.736624e-01</td>\n",
       "      <td>3.069669e-02</td>\n",
       "      <td>0.498093</td>\n",
       "      <td>0.003367</td>\n",
       "      <td>2.189090e-05</td>\n",
       "      <td>3.093471e-02</td>\n",
       "      <td>0.059593</td>\n",
       "    </tr>\n",
       "    <tr>\n",
       "      <th>3</th>\n",
       "      <td>4.453402e-02</td>\n",
       "      <td>0.025168</td>\n",
       "      <td>2.793374e-05</td>\n",
       "      <td>0.000073</td>\n",
       "      <td>0.025981</td>\n",
       "      <td>0.002637</td>\n",
       "      <td>0.016882</td>\n",
       "      <td>2.707196e-09</td>\n",
       "      <td>5.891777e-07</td>\n",
       "      <td>3.350268e-03</td>\n",
       "      <td>...</td>\n",
       "      <td>0.016505</td>\n",
       "      <td>2.490637e-02</td>\n",
       "      <td>0.004147</td>\n",
       "      <td>6.396192e-03</td>\n",
       "      <td>1.047330e-03</td>\n",
       "      <td>0.000336</td>\n",
       "      <td>0.008867</td>\n",
       "      <td>2.984962e-06</td>\n",
       "      <td>1.197563e-07</td>\n",
       "      <td>0.001822</td>\n",
       "    </tr>\n",
       "    <tr>\n",
       "      <th>4</th>\n",
       "      <td>1.820189e-09</td>\n",
       "      <td>0.005756</td>\n",
       "      <td>2.485174e-08</td>\n",
       "      <td>0.961634</td>\n",
       "      <td>0.001159</td>\n",
       "      <td>0.986013</td>\n",
       "      <td>0.014169</td>\n",
       "      <td>2.385000e-02</td>\n",
       "      <td>1.697959e-02</td>\n",
       "      <td>3.130398e-05</td>\n",
       "      <td>...</td>\n",
       "      <td>0.003914</td>\n",
       "      <td>1.273655e-04</td>\n",
       "      <td>0.000394</td>\n",
       "      <td>6.241281e-08</td>\n",
       "      <td>1.544863e-05</td>\n",
       "      <td>0.224178</td>\n",
       "      <td>0.000137</td>\n",
       "      <td>9.260857e-02</td>\n",
       "      <td>1.566109e-01</td>\n",
       "      <td>0.293118</td>\n",
       "    </tr>\n",
       "    <tr>\n",
       "      <th>5</th>\n",
       "      <td>6.657599e-02</td>\n",
       "      <td>0.018503</td>\n",
       "      <td>7.153062e-04</td>\n",
       "      <td>0.000218</td>\n",
       "      <td>0.002446</td>\n",
       "      <td>0.127507</td>\n",
       "      <td>0.225368</td>\n",
       "      <td>4.054804e-03</td>\n",
       "      <td>7.084246e-05</td>\n",
       "      <td>1.416636e-02</td>\n",
       "      <td>...</td>\n",
       "      <td>0.000050</td>\n",
       "      <td>3.781211e-03</td>\n",
       "      <td>0.004104</td>\n",
       "      <td>6.192793e-07</td>\n",
       "      <td>3.048532e-03</td>\n",
       "      <td>0.010092</td>\n",
       "      <td>0.028054</td>\n",
       "      <td>9.935436e-01</td>\n",
       "      <td>4.388276e-03</td>\n",
       "      <td>0.234164</td>\n",
       "    </tr>\n",
       "    <tr>\n",
       "      <th>6</th>\n",
       "      <td>7.882652e-02</td>\n",
       "      <td>0.026076</td>\n",
       "      <td>2.084157e-03</td>\n",
       "      <td>0.011582</td>\n",
       "      <td>0.001017</td>\n",
       "      <td>0.000979</td>\n",
       "      <td>0.001596</td>\n",
       "      <td>5.232665e-01</td>\n",
       "      <td>2.250363e-05</td>\n",
       "      <td>1.775177e-04</td>\n",
       "      <td>...</td>\n",
       "      <td>0.000281</td>\n",
       "      <td>2.764739e-03</td>\n",
       "      <td>0.000005</td>\n",
       "      <td>1.809272e-03</td>\n",
       "      <td>9.875289e-01</td>\n",
       "      <td>0.779904</td>\n",
       "      <td>0.005672</td>\n",
       "      <td>5.352345e-04</td>\n",
       "      <td>1.290452e-04</td>\n",
       "      <td>0.026844</td>\n",
       "    </tr>\n",
       "    <tr>\n",
       "      <th>7</th>\n",
       "      <td>3.050028e-10</td>\n",
       "      <td>0.025150</td>\n",
       "      <td>2.469776e-04</td>\n",
       "      <td>0.012152</td>\n",
       "      <td>0.039363</td>\n",
       "      <td>0.003081</td>\n",
       "      <td>0.003206</td>\n",
       "      <td>6.038393e-08</td>\n",
       "      <td>5.128390e-02</td>\n",
       "      <td>8.464864e-07</td>\n",
       "      <td>...</td>\n",
       "      <td>0.865445</td>\n",
       "      <td>2.700563e-03</td>\n",
       "      <td>0.993244</td>\n",
       "      <td>1.037274e-05</td>\n",
       "      <td>1.065011e-08</td>\n",
       "      <td>0.002456</td>\n",
       "      <td>0.001616</td>\n",
       "      <td>9.624699e-05</td>\n",
       "      <td>3.219788e-01</td>\n",
       "      <td>0.002033</td>\n",
       "    </tr>\n",
       "    <tr>\n",
       "      <th>8</th>\n",
       "      <td>7.201992e-03</td>\n",
       "      <td>0.028141</td>\n",
       "      <td>1.051819e-04</td>\n",
       "      <td>0.026897</td>\n",
       "      <td>0.033115</td>\n",
       "      <td>0.683356</td>\n",
       "      <td>0.021619</td>\n",
       "      <td>9.979788e-05</td>\n",
       "      <td>9.535062e-03</td>\n",
       "      <td>3.810547e-02</td>\n",
       "      <td>...</td>\n",
       "      <td>0.035521</td>\n",
       "      <td>1.176240e-02</td>\n",
       "      <td>0.023966</td>\n",
       "      <td>4.060410e-04</td>\n",
       "      <td>5.510259e-02</td>\n",
       "      <td>0.022335</td>\n",
       "      <td>0.108691</td>\n",
       "      <td>2.421616e-01</td>\n",
       "      <td>1.962036e-01</td>\n",
       "      <td>0.585600</td>\n",
       "    </tr>\n",
       "    <tr>\n",
       "      <th>9</th>\n",
       "      <td>5.149832e-08</td>\n",
       "      <td>0.008406</td>\n",
       "      <td>3.577808e-05</td>\n",
       "      <td>0.043869</td>\n",
       "      <td>0.013346</td>\n",
       "      <td>0.022728</td>\n",
       "      <td>0.930512</td>\n",
       "      <td>1.455392e-04</td>\n",
       "      <td>5.946501e-01</td>\n",
       "      <td>3.137885e-08</td>\n",
       "      <td>...</td>\n",
       "      <td>0.094520</td>\n",
       "      <td>1.576180e-02</td>\n",
       "      <td>0.022248</td>\n",
       "      <td>1.826198e-07</td>\n",
       "      <td>2.666099e-04</td>\n",
       "      <td>0.064858</td>\n",
       "      <td>0.020185</td>\n",
       "      <td>1.761849e-03</td>\n",
       "      <td>1.216102e-02</td>\n",
       "      <td>0.001165</td>\n",
       "    </tr>\n",
       "  </tbody>\n",
       "</table>\n",
       "<p>10 rows × 1942 columns</p>\n",
       "</div>"
      ],
      "text/plain": [
       "           0         1             2         3         4         5     \\\n",
       "0  8.202696e-03  0.000112  9.741985e-01  0.002886  0.000013  0.000063   \n",
       "1  1.922871e-05  0.973482  2.075814e-11  0.000009  0.984033  0.000016   \n",
       "2  9.750508e-01  0.046116  7.410635e-04  0.010319  0.012384  0.000002   \n",
       "3  4.453402e-02  0.025168  2.793374e-05  0.000073  0.025981  0.002637   \n",
       "4  1.820189e-09  0.005756  2.485174e-08  0.961634  0.001159  0.986013   \n",
       "5  6.657599e-02  0.018503  7.153062e-04  0.000218  0.002446  0.127507   \n",
       "6  7.882652e-02  0.026076  2.084157e-03  0.011582  0.001017  0.000979   \n",
       "7  3.050028e-10  0.025150  2.469776e-04  0.012152  0.039363  0.003081   \n",
       "8  7.201992e-03  0.028141  1.051819e-04  0.026897  0.033115  0.683356   \n",
       "9  5.149832e-08  0.008406  3.577808e-05  0.043869  0.013346  0.022728   \n",
       "\n",
       "       6             7             8             9     ...      1932  \\\n",
       "0  0.000002  9.837819e-04  4.475924e-05  9.601843e-01  ...  0.000022   \n",
       "1  0.004211  7.584725e-06  1.478761e-08  2.254396e-08  ...  0.000049   \n",
       "2  0.002625  1.352400e-03  1.815102e-07  3.199552e-02  ...  0.211663   \n",
       "3  0.016882  2.707196e-09  5.891777e-07  3.350268e-03  ...  0.016505   \n",
       "4  0.014169  2.385000e-02  1.697959e-02  3.130398e-05  ...  0.003914   \n",
       "5  0.225368  4.054804e-03  7.084246e-05  1.416636e-02  ...  0.000050   \n",
       "6  0.001596  5.232665e-01  2.250363e-05  1.775177e-04  ...  0.000281   \n",
       "7  0.003206  6.038393e-08  5.128390e-02  8.464864e-07  ...  0.865445   \n",
       "8  0.021619  9.979788e-05  9.535062e-03  3.810547e-02  ...  0.035521   \n",
       "9  0.930512  1.455392e-04  5.946501e-01  3.137885e-08  ...  0.094520   \n",
       "\n",
       "           1933      1934          1935          1936      1937      1938  \\\n",
       "0  6.581381e-07  0.003999  1.237885e-06  5.651738e-06  0.019500  0.000004   \n",
       "1  9.931269e-01  0.000220  5.094812e-08  2.303213e-04  0.000001  0.979974   \n",
       "2  5.515190e-03  0.010756  9.736624e-01  3.069669e-02  0.498093  0.003367   \n",
       "3  2.490637e-02  0.004147  6.396192e-03  1.047330e-03  0.000336  0.008867   \n",
       "4  1.273655e-04  0.000394  6.241281e-08  1.544863e-05  0.224178  0.000137   \n",
       "5  3.781211e-03  0.004104  6.192793e-07  3.048532e-03  0.010092  0.028054   \n",
       "6  2.764739e-03  0.000005  1.809272e-03  9.875289e-01  0.779904  0.005672   \n",
       "7  2.700563e-03  0.993244  1.037274e-05  1.065011e-08  0.002456  0.001616   \n",
       "8  1.176240e-02  0.023966  4.060410e-04  5.510259e-02  0.022335  0.108691   \n",
       "9  1.576180e-02  0.022248  1.826198e-07  2.666099e-04  0.064858  0.020185   \n",
       "\n",
       "           1939          1940      1941  \n",
       "0  9.991096e-01  8.833154e-03  0.000685  \n",
       "1  2.739689e-07  5.759530e-06  0.005167  \n",
       "2  2.189090e-05  3.093471e-02  0.059593  \n",
       "3  2.984962e-06  1.197563e-07  0.001822  \n",
       "4  9.260857e-02  1.566109e-01  0.293118  \n",
       "5  9.935436e-01  4.388276e-03  0.234164  \n",
       "6  5.352345e-04  1.290452e-04  0.026844  \n",
       "7  9.624699e-05  3.219788e-01  0.002033  \n",
       "8  2.421616e-01  1.962036e-01  0.585600  \n",
       "9  1.761849e-03  1.216102e-02  0.001165  \n",
       "\n",
       "[10 rows x 1942 columns]"
      ]
     },
     "execution_count": 28,
     "metadata": {},
     "output_type": "execute_result"
    }
   ],
   "source": [
    "output1 = pd.DataFrame(output)\n",
    "output1"
   ]
  },
  {
   "cell_type": "code",
   "execution_count": 29,
   "id": "funded-approval",
   "metadata": {},
   "outputs": [
    {
     "data": {
      "text/plain": [
       "0.9064897398705416"
      ]
     },
     "execution_count": 29,
     "metadata": {},
     "output_type": "execute_result"
    }
   ],
   "source": [
    "#cost_function(x_train, y_enc, theta)\n",
    "cost_function(x_test, y_enc, theta)"
   ]
  },
  {
   "cell_type": "code",
   "execution_count": 30,
   "id": "spectacular-command",
   "metadata": {},
   "outputs": [],
   "source": [
    "#Predicted labels\n",
    "y_pred = np.empty((y_enc.shape[0], 1))\n",
    "\n",
    "for q in range(0, y_enc.shape[0]):\n",
    "    \n",
    "    for p in range(0, y_enc.shape[1]):\n",
    "        \n",
    "        if (output[p,q] == np.max(output[:,q])):\n",
    "            \n",
    "            y_pred[q] = p\n",
    "            "
   ]
  },
  {
   "cell_type": "code",
   "execution_count": 31,
   "id": "raised-planner",
   "metadata": {},
   "outputs": [
    {
     "data": {
      "text/plain": [
       "array([[2.],\n",
       "       [1.],\n",
       "       [0.],\n",
       "       ...,\n",
       "       [0.],\n",
       "       [7.],\n",
       "       [8.]])"
      ]
     },
     "execution_count": 31,
     "metadata": {},
     "output_type": "execute_result"
    }
   ],
   "source": [
    "y_pred"
   ]
  },
  {
   "cell_type": "code",
   "execution_count": 32,
   "id": "altered-reynolds",
   "metadata": {},
   "outputs": [
    {
     "name": "stdout",
     "output_type": "stream",
     "text": [
      "    Actual  Predicted\n",
      "0      2.0        2.0\n",
      "1      1.0        1.0\n",
      "2      0.0        0.0\n",
      "3      4.0        4.0\n",
      "4      1.0        1.0\n",
      "5      4.0        4.0\n",
      "6      9.0        9.0\n",
      "7      5.0        6.0\n",
      "8      9.0        9.0\n",
      "9      0.0        0.0\n",
      "10     6.0        6.0\n",
      "11     9.0        9.0\n",
      "12     0.0        0.0\n",
      "13     1.0        1.0\n",
      "14     5.0        5.0\n",
      "15     9.0        9.0\n",
      "16     7.0        7.0\n",
      "17     3.0        3.0\n",
      "18     4.0        4.0\n",
      "19     9.0        9.0\n"
     ]
    }
   ],
   "source": [
    "#l = np.hstack((y_train, y_pred))\n",
    "l = np.hstack((y_test, y_pred))\n",
    "\n",
    "result = pd.DataFrame(l, columns = [\"Actual\", \"Predicted\"])\n",
    "\n",
    "print(result.head(20))"
   ]
  },
  {
   "cell_type": "code",
   "execution_count": 33,
   "id": "accredited-restriction",
   "metadata": {},
   "outputs": [
    {
     "name": "stdout",
     "output_type": "stream",
     "text": [
      "Accuracy of the model is:  0.8836251287332647\n"
     ]
    }
   ],
   "source": [
    "from sklearn.metrics import accuracy_score\n",
    "\n",
    "#print (\"Accuracy of the model is: \", accuracy_score(y_pred, y_train))\n",
    "print (\"Accuracy of the model is: \", accuracy_score(y_pred, y_test))"
   ]
  },
  {
   "cell_type": "code",
   "execution_count": null,
   "id": "blind-limit",
   "metadata": {},
   "outputs": [],
   "source": []
  }
 ],
 "metadata": {
  "kernelspec": {
   "display_name": "Python 3",
   "language": "python",
   "name": "python3"
  },
  "language_info": {
   "codemirror_mode": {
    "name": "ipython",
    "version": 3
   },
   "file_extension": ".py",
   "mimetype": "text/x-python",
   "name": "python",
   "nbconvert_exporter": "python",
   "pygments_lexer": "ipython3",
   "version": "3.8.5"
  }
 },
 "nbformat": 4,
 "nbformat_minor": 5
}
