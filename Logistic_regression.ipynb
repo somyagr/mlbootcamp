{
 "cells": [
  {
   "cell_type": "markdown",
   "id": "dynamic-conditions",
   "metadata": {},
   "source": [
    "# **Importing the libraries**"
   ]
  },
  {
   "cell_type": "code",
   "execution_count": 1,
   "id": "incorporate-carry",
   "metadata": {},
   "outputs": [],
   "source": [
    "import numpy as np \n",
    "  \n",
    "import pandas as pd \n",
    "  \n",
    "import matplotlib.pyplot as plt "
   ]
  },
  {
   "cell_type": "markdown",
   "id": "freelance-zealand",
   "metadata": {},
   "source": [
    "# **Importing the datasets**"
   ]
  },
  {
   "cell_type": "code",
   "execution_count": 2,
   "id": "weird-carolina",
   "metadata": {},
   "outputs": [],
   "source": [
    "train_df = pd.read_csv(\"/home/somya/Downloads/mnist_train_small.csv\")\n",
    "test_df = pd.read_csv(\"/home/somya/Downloads/mnist_test.csv\")"
   ]
  },
  {
   "cell_type": "code",
   "execution_count": 3,
   "id": "provincial-coupon",
   "metadata": {
    "scrolled": true
   },
   "outputs": [
    {
     "data": {
      "text/html": [
       "<div>\n",
       "<style scoped>\n",
       "    .dataframe tbody tr th:only-of-type {\n",
       "        vertical-align: middle;\n",
       "    }\n",
       "\n",
       "    .dataframe tbody tr th {\n",
       "        vertical-align: top;\n",
       "    }\n",
       "\n",
       "    .dataframe thead th {\n",
       "        text-align: right;\n",
       "    }\n",
       "</style>\n",
       "<table border=\"1\" class=\"dataframe\">\n",
       "  <thead>\n",
       "    <tr style=\"text-align: right;\">\n",
       "      <th></th>\n",
       "      <th>6</th>\n",
       "      <th>0</th>\n",
       "      <th>0.1</th>\n",
       "      <th>0.2</th>\n",
       "      <th>0.3</th>\n",
       "      <th>0.4</th>\n",
       "      <th>0.5</th>\n",
       "      <th>0.6</th>\n",
       "      <th>0.7</th>\n",
       "      <th>0.8</th>\n",
       "      <th>...</th>\n",
       "      <th>0.581</th>\n",
       "      <th>0.582</th>\n",
       "      <th>0.583</th>\n",
       "      <th>0.584</th>\n",
       "      <th>0.585</th>\n",
       "      <th>0.586</th>\n",
       "      <th>0.587</th>\n",
       "      <th>0.588</th>\n",
       "      <th>0.589</th>\n",
       "      <th>0.590</th>\n",
       "    </tr>\n",
       "  </thead>\n",
       "  <tbody>\n",
       "    <tr>\n",
       "      <th>0</th>\n",
       "      <td>5</td>\n",
       "      <td>0</td>\n",
       "      <td>0</td>\n",
       "      <td>0</td>\n",
       "      <td>0</td>\n",
       "      <td>0</td>\n",
       "      <td>0</td>\n",
       "      <td>0</td>\n",
       "      <td>0</td>\n",
       "      <td>0</td>\n",
       "      <td>...</td>\n",
       "      <td>0</td>\n",
       "      <td>0</td>\n",
       "      <td>0</td>\n",
       "      <td>0</td>\n",
       "      <td>0</td>\n",
       "      <td>0</td>\n",
       "      <td>0</td>\n",
       "      <td>0</td>\n",
       "      <td>0</td>\n",
       "      <td>0</td>\n",
       "    </tr>\n",
       "    <tr>\n",
       "      <th>1</th>\n",
       "      <td>7</td>\n",
       "      <td>0</td>\n",
       "      <td>0</td>\n",
       "      <td>0</td>\n",
       "      <td>0</td>\n",
       "      <td>0</td>\n",
       "      <td>0</td>\n",
       "      <td>0</td>\n",
       "      <td>0</td>\n",
       "      <td>0</td>\n",
       "      <td>...</td>\n",
       "      <td>0</td>\n",
       "      <td>0</td>\n",
       "      <td>0</td>\n",
       "      <td>0</td>\n",
       "      <td>0</td>\n",
       "      <td>0</td>\n",
       "      <td>0</td>\n",
       "      <td>0</td>\n",
       "      <td>0</td>\n",
       "      <td>0</td>\n",
       "    </tr>\n",
       "    <tr>\n",
       "      <th>2</th>\n",
       "      <td>9</td>\n",
       "      <td>0</td>\n",
       "      <td>0</td>\n",
       "      <td>0</td>\n",
       "      <td>0</td>\n",
       "      <td>0</td>\n",
       "      <td>0</td>\n",
       "      <td>0</td>\n",
       "      <td>0</td>\n",
       "      <td>0</td>\n",
       "      <td>...</td>\n",
       "      <td>0</td>\n",
       "      <td>0</td>\n",
       "      <td>0</td>\n",
       "      <td>0</td>\n",
       "      <td>0</td>\n",
       "      <td>0</td>\n",
       "      <td>0</td>\n",
       "      <td>0</td>\n",
       "      <td>0</td>\n",
       "      <td>0</td>\n",
       "    </tr>\n",
       "    <tr>\n",
       "      <th>3</th>\n",
       "      <td>5</td>\n",
       "      <td>0</td>\n",
       "      <td>0</td>\n",
       "      <td>0</td>\n",
       "      <td>0</td>\n",
       "      <td>0</td>\n",
       "      <td>0</td>\n",
       "      <td>0</td>\n",
       "      <td>0</td>\n",
       "      <td>0</td>\n",
       "      <td>...</td>\n",
       "      <td>0</td>\n",
       "      <td>0</td>\n",
       "      <td>0</td>\n",
       "      <td>0</td>\n",
       "      <td>0</td>\n",
       "      <td>0</td>\n",
       "      <td>0</td>\n",
       "      <td>0</td>\n",
       "      <td>0</td>\n",
       "      <td>0</td>\n",
       "    </tr>\n",
       "    <tr>\n",
       "      <th>4</th>\n",
       "      <td>2</td>\n",
       "      <td>0</td>\n",
       "      <td>0</td>\n",
       "      <td>0</td>\n",
       "      <td>0</td>\n",
       "      <td>0</td>\n",
       "      <td>0</td>\n",
       "      <td>0</td>\n",
       "      <td>0</td>\n",
       "      <td>0</td>\n",
       "      <td>...</td>\n",
       "      <td>0</td>\n",
       "      <td>0</td>\n",
       "      <td>0</td>\n",
       "      <td>0</td>\n",
       "      <td>0</td>\n",
       "      <td>0</td>\n",
       "      <td>0</td>\n",
       "      <td>0</td>\n",
       "      <td>0</td>\n",
       "      <td>0</td>\n",
       "    </tr>\n",
       "  </tbody>\n",
       "</table>\n",
       "<p>5 rows × 785 columns</p>\n",
       "</div>"
      ],
      "text/plain": [
       "   6  0  0.1  0.2  0.3  0.4  0.5  0.6  0.7  0.8  ...  0.581  0.582  0.583  \\\n",
       "0  5  0    0    0    0    0    0    0    0    0  ...      0      0      0   \n",
       "1  7  0    0    0    0    0    0    0    0    0  ...      0      0      0   \n",
       "2  9  0    0    0    0    0    0    0    0    0  ...      0      0      0   \n",
       "3  5  0    0    0    0    0    0    0    0    0  ...      0      0      0   \n",
       "4  2  0    0    0    0    0    0    0    0    0  ...      0      0      0   \n",
       "\n",
       "   0.584  0.585  0.586  0.587  0.588  0.589  0.590  \n",
       "0      0      0      0      0      0      0      0  \n",
       "1      0      0      0      0      0      0      0  \n",
       "2      0      0      0      0      0      0      0  \n",
       "3      0      0      0      0      0      0      0  \n",
       "4      0      0      0      0      0      0      0  \n",
       "\n",
       "[5 rows x 785 columns]"
      ]
     },
     "execution_count": 3,
     "metadata": {},
     "output_type": "execute_result"
    }
   ],
   "source": [
    "train_df.head()"
   ]
  },
  {
   "cell_type": "code",
   "execution_count": 4,
   "id": "reverse-medicine",
   "metadata": {
    "scrolled": true
   },
   "outputs": [
    {
     "data": {
      "text/html": [
       "<div>\n",
       "<style scoped>\n",
       "    .dataframe tbody tr th:only-of-type {\n",
       "        vertical-align: middle;\n",
       "    }\n",
       "\n",
       "    .dataframe tbody tr th {\n",
       "        vertical-align: top;\n",
       "    }\n",
       "\n",
       "    .dataframe thead th {\n",
       "        text-align: right;\n",
       "    }\n",
       "</style>\n",
       "<table border=\"1\" class=\"dataframe\">\n",
       "  <thead>\n",
       "    <tr style=\"text-align: right;\">\n",
       "      <th></th>\n",
       "      <th>7</th>\n",
       "      <th>0</th>\n",
       "      <th>0.1</th>\n",
       "      <th>0.2</th>\n",
       "      <th>0.3</th>\n",
       "      <th>0.4</th>\n",
       "      <th>0.5</th>\n",
       "      <th>0.6</th>\n",
       "      <th>0.7</th>\n",
       "      <th>0.8</th>\n",
       "      <th>...</th>\n",
       "      <th>0.658</th>\n",
       "      <th>0.659</th>\n",
       "      <th>0.660</th>\n",
       "      <th>0.661</th>\n",
       "      <th>0.662</th>\n",
       "      <th>0.663</th>\n",
       "      <th>0.664</th>\n",
       "      <th>0.665</th>\n",
       "      <th>0.666</th>\n",
       "      <th>0.667</th>\n",
       "    </tr>\n",
       "  </thead>\n",
       "  <tbody>\n",
       "    <tr>\n",
       "      <th>0</th>\n",
       "      <td>2</td>\n",
       "      <td>0</td>\n",
       "      <td>0</td>\n",
       "      <td>0</td>\n",
       "      <td>0</td>\n",
       "      <td>0</td>\n",
       "      <td>0</td>\n",
       "      <td>0.0</td>\n",
       "      <td>0.0</td>\n",
       "      <td>0.0</td>\n",
       "      <td>...</td>\n",
       "      <td>0.0</td>\n",
       "      <td>0.0</td>\n",
       "      <td>0.0</td>\n",
       "      <td>0.0</td>\n",
       "      <td>0.0</td>\n",
       "      <td>0.0</td>\n",
       "      <td>0.0</td>\n",
       "      <td>0.0</td>\n",
       "      <td>0.0</td>\n",
       "      <td>0.0</td>\n",
       "    </tr>\n",
       "    <tr>\n",
       "      <th>1</th>\n",
       "      <td>1</td>\n",
       "      <td>0</td>\n",
       "      <td>0</td>\n",
       "      <td>0</td>\n",
       "      <td>0</td>\n",
       "      <td>0</td>\n",
       "      <td>0</td>\n",
       "      <td>0.0</td>\n",
       "      <td>0.0</td>\n",
       "      <td>0.0</td>\n",
       "      <td>...</td>\n",
       "      <td>0.0</td>\n",
       "      <td>0.0</td>\n",
       "      <td>0.0</td>\n",
       "      <td>0.0</td>\n",
       "      <td>0.0</td>\n",
       "      <td>0.0</td>\n",
       "      <td>0.0</td>\n",
       "      <td>0.0</td>\n",
       "      <td>0.0</td>\n",
       "      <td>0.0</td>\n",
       "    </tr>\n",
       "    <tr>\n",
       "      <th>2</th>\n",
       "      <td>0</td>\n",
       "      <td>0</td>\n",
       "      <td>0</td>\n",
       "      <td>0</td>\n",
       "      <td>0</td>\n",
       "      <td>0</td>\n",
       "      <td>0</td>\n",
       "      <td>0.0</td>\n",
       "      <td>0.0</td>\n",
       "      <td>0.0</td>\n",
       "      <td>...</td>\n",
       "      <td>0.0</td>\n",
       "      <td>0.0</td>\n",
       "      <td>0.0</td>\n",
       "      <td>0.0</td>\n",
       "      <td>0.0</td>\n",
       "      <td>0.0</td>\n",
       "      <td>0.0</td>\n",
       "      <td>0.0</td>\n",
       "      <td>0.0</td>\n",
       "      <td>0.0</td>\n",
       "    </tr>\n",
       "    <tr>\n",
       "      <th>3</th>\n",
       "      <td>4</td>\n",
       "      <td>0</td>\n",
       "      <td>0</td>\n",
       "      <td>0</td>\n",
       "      <td>0</td>\n",
       "      <td>0</td>\n",
       "      <td>0</td>\n",
       "      <td>0.0</td>\n",
       "      <td>0.0</td>\n",
       "      <td>0.0</td>\n",
       "      <td>...</td>\n",
       "      <td>0.0</td>\n",
       "      <td>0.0</td>\n",
       "      <td>0.0</td>\n",
       "      <td>0.0</td>\n",
       "      <td>0.0</td>\n",
       "      <td>0.0</td>\n",
       "      <td>0.0</td>\n",
       "      <td>0.0</td>\n",
       "      <td>0.0</td>\n",
       "      <td>0.0</td>\n",
       "    </tr>\n",
       "    <tr>\n",
       "      <th>4</th>\n",
       "      <td>1</td>\n",
       "      <td>0</td>\n",
       "      <td>0</td>\n",
       "      <td>0</td>\n",
       "      <td>0</td>\n",
       "      <td>0</td>\n",
       "      <td>0</td>\n",
       "      <td>0.0</td>\n",
       "      <td>0.0</td>\n",
       "      <td>0.0</td>\n",
       "      <td>...</td>\n",
       "      <td>0.0</td>\n",
       "      <td>0.0</td>\n",
       "      <td>0.0</td>\n",
       "      <td>0.0</td>\n",
       "      <td>0.0</td>\n",
       "      <td>0.0</td>\n",
       "      <td>0.0</td>\n",
       "      <td>0.0</td>\n",
       "      <td>0.0</td>\n",
       "      <td>0.0</td>\n",
       "    </tr>\n",
       "  </tbody>\n",
       "</table>\n",
       "<p>5 rows × 785 columns</p>\n",
       "</div>"
      ],
      "text/plain": [
       "   7  0  0.1  0.2  0.3  0.4  0.5  0.6  0.7  0.8  ...  0.658  0.659  0.660  \\\n",
       "0  2  0    0    0    0    0    0  0.0  0.0  0.0  ...    0.0    0.0    0.0   \n",
       "1  1  0    0    0    0    0    0  0.0  0.0  0.0  ...    0.0    0.0    0.0   \n",
       "2  0  0    0    0    0    0    0  0.0  0.0  0.0  ...    0.0    0.0    0.0   \n",
       "3  4  0    0    0    0    0    0  0.0  0.0  0.0  ...    0.0    0.0    0.0   \n",
       "4  1  0    0    0    0    0    0  0.0  0.0  0.0  ...    0.0    0.0    0.0   \n",
       "\n",
       "   0.661  0.662  0.663  0.664  0.665  0.666  0.667  \n",
       "0    0.0    0.0    0.0    0.0    0.0    0.0    0.0  \n",
       "1    0.0    0.0    0.0    0.0    0.0    0.0    0.0  \n",
       "2    0.0    0.0    0.0    0.0    0.0    0.0    0.0  \n",
       "3    0.0    0.0    0.0    0.0    0.0    0.0    0.0  \n",
       "4    0.0    0.0    0.0    0.0    0.0    0.0    0.0  \n",
       "\n",
       "[5 rows x 785 columns]"
      ]
     },
     "execution_count": 4,
     "metadata": {},
     "output_type": "execute_result"
    }
   ],
   "source": [
    "test_df.head()"
   ]
  },
  {
   "cell_type": "markdown",
   "id": "loving-trouble",
   "metadata": {},
   "source": [
    "# **Arranging the training dataset**"
   ]
  },
  {
   "cell_type": "code",
   "execution_count": 5,
   "id": "cathedral-african",
   "metadata": {},
   "outputs": [],
   "source": [
    "x1 = train_df.drop(['6'], axis = 1).values\n",
    "\n",
    "x0_train = np.ones((np.shape(x1)[0],1))\n",
    "\n",
    "x_train = np.hstack((x0_train,x1))"
   ]
  },
  {
   "cell_type": "code",
   "execution_count": 6,
   "id": "independent-respect",
   "metadata": {},
   "outputs": [
    {
     "name": "stdout",
     "output_type": "stream",
     "text": [
      "[[1. 0. 0. ... 0. 0. 0.]\n",
      " [1. 0. 0. ... 0. 0. 0.]\n",
      " [1. 0. 0. ... 0. 0. 0.]\n",
      " ...\n",
      " [1. 0. 0. ... 0. 0. 0.]\n",
      " [1. 0. 0. ... 0. 0. 0.]\n",
      " [1. 0. 0. ... 0. 0. 0.]]\n",
      "(19999, 785)\n"
     ]
    }
   ],
   "source": [
    "print(x_train)\n",
    "print(x_train.shape)"
   ]
  },
  {
   "cell_type": "code",
   "execution_count": 7,
   "id": "assisted-detroit",
   "metadata": {},
   "outputs": [],
   "source": [
    "y1 = train_df['6']\n",
    "y_train = y1.to_numpy()\n",
    "y_train = np.vstack(y_train)"
   ]
  },
  {
   "cell_type": "code",
   "execution_count": 8,
   "id": "advised-cooperation",
   "metadata": {},
   "outputs": [
    {
     "name": "stdout",
     "output_type": "stream",
     "text": [
      "[[5]\n",
      " [7]\n",
      " [9]\n",
      " ...\n",
      " [2]\n",
      " [9]\n",
      " [5]]\n",
      "(19999, 1)\n"
     ]
    }
   ],
   "source": [
    "print(y_train)\n",
    "print(y_train.shape)"
   ]
  },
  {
   "cell_type": "markdown",
   "id": "subjective-advancement",
   "metadata": {},
   "source": [
    "# **Arranging the test dataset**"
   ]
  },
  {
   "cell_type": "code",
   "execution_count": 9,
   "id": "modern-mauritius",
   "metadata": {},
   "outputs": [],
   "source": [
    "x2 = test_df.drop(index = 1942 , columns ='7').values\n",
    "\n",
    "x0_test = np.ones((np.shape(x2)[0],1))\n",
    "\n",
    "x_test = np.hstack((x0_test,x2))"
   ]
  },
  {
   "cell_type": "code",
   "execution_count": 10,
   "id": "cross-operations",
   "metadata": {},
   "outputs": [
    {
     "name": "stdout",
     "output_type": "stream",
     "text": [
      "[[1. 0. 0. ... 0. 0. 0.]\n",
      " [1. 0. 0. ... 0. 0. 0.]\n",
      " [1. 0. 0. ... 0. 0. 0.]\n",
      " ...\n",
      " [1. 0. 0. ... 0. 0. 0.]\n",
      " [1. 0. 0. ... 0. 0. 0.]\n",
      " [1. 0. 0. ... 0. 0. 0.]]\n",
      "(1942, 785)\n"
     ]
    }
   ],
   "source": [
    "print(x_test)\n",
    "print(x_test.shape)"
   ]
  },
  {
   "cell_type": "code",
   "execution_count": 11,
   "id": "cognitive-territory",
   "metadata": {},
   "outputs": [],
   "source": [
    "y2 = test_df['7']\n",
    "y_test = y2.drop(index = 1942).values\n",
    "y_test = np.vstack(y_test)"
   ]
  },
  {
   "cell_type": "code",
   "execution_count": 12,
   "id": "informative-feeling",
   "metadata": {},
   "outputs": [
    {
     "name": "stdout",
     "output_type": "stream",
     "text": [
      "[[2]\n",
      " [1]\n",
      " [0]\n",
      " ...\n",
      " [5]\n",
      " [7]\n",
      " [8]]\n",
      "(1942, 1)\n"
     ]
    }
   ],
   "source": [
    "print(y_test)\n",
    "print(y_test.shape)"
   ]
  },
  {
   "cell_type": "markdown",
   "id": "collective-client",
   "metadata": {},
   "source": [
    "# **Visualising the data**"
   ]
  },
  {
   "cell_type": "code",
   "execution_count": 13,
   "id": "intimate-soundtrack",
   "metadata": {},
   "outputs": [],
   "source": [
    "digit = x1[0]\n",
    "digit_image = digit.reshape(28,28)"
   ]
  },
  {
   "cell_type": "code",
   "execution_count": 14,
   "id": "optional-artist",
   "metadata": {},
   "outputs": [
    {
     "data": {
      "text/plain": [
       "<matplotlib.image.AxesImage at 0x7f0924348dc0>"
      ]
     },
     "execution_count": 14,
     "metadata": {},
     "output_type": "execute_result"
    },
    {
     "data": {
      "image/png": "[encoded data removed]",
      "text/plain": [
       "<Figure size 432x288 with 1 Axes>"
      ]
     },
     "metadata": {
      "needs_background": "light"
     },
     "output_type": "display_data"
    }
   ],
   "source": [
    "plt.imshow(digit_image, cmap = plt.cm.binary)"
   ]
  },
  {
   "cell_type": "markdown",
   "id": "protected-anthropology",
   "metadata": {},
   "source": [
    "# **Implementation of model**"
   ]
  },
  {
   "cell_type": "code",
   "execution_count": 15,
   "id": "baking-smith",
   "metadata": {},
   "outputs": [
    {
     "data": {
      "text/plain": [
       "array([0, 1, 2, 3, 4, 5, 6, 7, 8, 9])"
      ]
     },
     "execution_count": 15,
     "metadata": {},
     "output_type": "execute_result"
    }
   ],
   "source": [
    "#Collecting unique elements from training labels\n",
    "np.unique(y_train)"
   ]
  },
  {
   "cell_type": "code",
   "execution_count": 16,
   "id": "accomplished-carol",
   "metadata": {},
   "outputs": [
    {
     "name": "stdout",
     "output_type": "stream",
     "text": [
      "[[0. 0. 0. ... 0. 0. 0.]\n",
      " [0. 0. 0. ... 1. 0. 0.]\n",
      " [0. 0. 0. ... 0. 0. 1.]\n",
      " ...\n",
      " [0. 0. 1. ... 0. 0. 0.]\n",
      " [0. 0. 0. ... 0. 0. 1.]\n",
      " [0. 0. 0. ... 0. 0. 0.]]\n"
     ]
    },
    {
     "data": {
      "text/plain": [
       "(19999, 10)"
      ]
     },
     "execution_count": 16,
     "metadata": {},
     "output_type": "execute_result"
    }
   ],
   "source": [
    "#Applying one hot encoding\n",
    "y_enc = np.zeros([y_train.shape[0], np.unique(y_train).shape[0]])\n",
    "\n",
    "for i in range(np.unique(y_train).shape[0]):\n",
    "    \n",
    "    for j in range(0, len(y_enc)):\n",
    "        \n",
    "        if (y_train[j] == np.unique(y_train)[i]):\n",
    "            \n",
    "            y_enc[j, i] = 1\n",
    "            \n",
    "print(y_enc)\n",
    "y_enc.shape"
   ]
  },
  {
   "cell_type": "code",
   "execution_count": 17,
   "id": "liable-mustang",
   "metadata": {},
   "outputs": [
    {
     "data": {
      "text/plain": [
       "(785, 10)"
      ]
     },
     "execution_count": 17,
     "metadata": {},
     "output_type": "execute_result"
    }
   ],
   "source": [
    "theta = np.zeros((x_train.shape[1], y_enc.shape[1]))\n",
    "theta.shape"
   ]
  },
  {
   "cell_type": "code",
   "execution_count": 18,
   "id": "economic-genesis",
   "metadata": {},
   "outputs": [],
   "source": [
    "def hypothesis(theta, x):\n",
    "    \n",
    "    z = np.dot(x, theta)\n",
    "    \n",
    "    sigmoid = np.array(1/(1 + (np.exp(-z))))                \n",
    "        \n",
    "    return sigmoid"
   ]
  },
  {
   "cell_type": "code",
   "execution_count": 19,
   "id": "streaming-simulation",
   "metadata": {},
   "outputs": [],
   "source": [
    "def cost_function(x, y, theta):\n",
    "        \n",
    "    y1 = -y * np.log(hypothesis(theta, x))\n",
    "        \n",
    "    y0 = -(1 - y) * np.log(1 - hypothesis(theta, x))\n",
    "        \n",
    "    return np.sum(y1 + y0) / x.shape[0]"
   ]
  },
  {
   "cell_type": "code",
   "execution_count": 20,
   "id": "shared-hungarian",
   "metadata": {},
   "outputs": [],
   "source": [
    "def gradient_descent(x, y, theta, learning_rate, iterations):\n",
    "\n",
    "    cost = np.zeros(iterations)\n",
    "    \n",
    "    for i in range(iterations):\n",
    "        \n",
    "        for j in range(theta.shape[1]):\n",
    "            \n",
    "            h = hypothesis(theta[:,j], x)\n",
    "                \n",
    "            theta[:,j] = theta[:,j] - (learning_rate/x.shape[0]) * np.dot(x.T,(h-y[:,j]))\n",
    "            \n",
    "            cost[i] = cost_function(x, y, theta)\n",
    "\n",
    "    return theta, cost"
   ]
  },
  {
   "cell_type": "code",
   "execution_count": 21,
   "id": "charitable-discharge",
   "metadata": {
    "scrolled": true
   },
   "outputs": [],
   "source": [
    "#Normalizing the features\n",
    "\n",
    "x_train = x_train/255\n",
    "x_test = x_test/255"
   ]
  },
  {
   "cell_type": "code",
   "execution_count": 22,
   "id": "civil-orientation",
   "metadata": {},
   "outputs": [],
   "source": [
    "theta, cost = gradient_descent(x_train, y_enc, theta, 0.96, 10000)"
   ]
  },
  {
   "cell_type": "code",
   "execution_count": 23,
   "id": "collect-bryan",
   "metadata": {
    "scrolled": false
   },
   "outputs": [
    {
     "name": "stdout",
     "output_type": "stream",
     "text": [
      "[[-0.08328422 -0.01797705 -0.10921236 ... -0.03557144 -0.4833461\n",
      "  -0.21484751]\n",
      " [ 0.          0.          0.         ...  0.          0.\n",
      "   0.        ]\n",
      " [ 0.          0.          0.         ...  0.          0.\n",
      "   0.        ]\n",
      " ...\n",
      " [ 0.          0.          0.         ...  0.          0.\n",
      "   0.        ]\n",
      " [ 0.          0.          0.         ...  0.          0.\n",
      "   0.        ]\n",
      " [ 0.          0.          0.         ...  0.          0.\n",
      "   0.        ]]\n"
     ]
    },
    {
     "data": {
      "text/plain": [
       "(785, 10)"
      ]
     },
     "execution_count": 23,
     "metadata": {},
     "output_type": "execute_result"
    }
   ],
   "source": [
    "print(theta)\n",
    "theta.shape"
   ]
  },
  {
   "cell_type": "code",
   "execution_count": 24,
   "id": "acceptable-basin",
   "metadata": {},
   "outputs": [
    {
     "data": {
      "text/html": [
       "<div>\n",
       "<style scoped>\n",
       "    .dataframe tbody tr th:only-of-type {\n",
       "        vertical-align: middle;\n",
       "    }\n",
       "\n",
       "    .dataframe tbody tr th {\n",
       "        vertical-align: top;\n",
       "    }\n",
       "\n",
       "    .dataframe thead th {\n",
       "        text-align: right;\n",
       "    }\n",
       "</style>\n",
       "<table border=\"1\" class=\"dataframe\">\n",
       "  <thead>\n",
       "    <tr style=\"text-align: right;\">\n",
       "      <th></th>\n",
       "      <th>0</th>\n",
       "      <th>1</th>\n",
       "      <th>2</th>\n",
       "      <th>3</th>\n",
       "      <th>4</th>\n",
       "      <th>5</th>\n",
       "      <th>6</th>\n",
       "      <th>7</th>\n",
       "      <th>8</th>\n",
       "      <th>9</th>\n",
       "    </tr>\n",
       "  </thead>\n",
       "  <tbody>\n",
       "    <tr>\n",
       "      <th>0</th>\n",
       "      <td>-0.083284</td>\n",
       "      <td>-0.017977</td>\n",
       "      <td>-0.109212</td>\n",
       "      <td>-0.176841</td>\n",
       "      <td>-0.065403</td>\n",
       "      <td>-0.001312</td>\n",
       "      <td>-0.101481</td>\n",
       "      <td>-0.035571</td>\n",
       "      <td>-0.483346</td>\n",
       "      <td>-0.214848</td>\n",
       "    </tr>\n",
       "    <tr>\n",
       "      <th>1</th>\n",
       "      <td>0.000000</td>\n",
       "      <td>0.000000</td>\n",
       "      <td>0.000000</td>\n",
       "      <td>0.000000</td>\n",
       "      <td>0.000000</td>\n",
       "      <td>0.000000</td>\n",
       "      <td>0.000000</td>\n",
       "      <td>0.000000</td>\n",
       "      <td>0.000000</td>\n",
       "      <td>0.000000</td>\n",
       "    </tr>\n",
       "    <tr>\n",
       "      <th>2</th>\n",
       "      <td>0.000000</td>\n",
       "      <td>0.000000</td>\n",
       "      <td>0.000000</td>\n",
       "      <td>0.000000</td>\n",
       "      <td>0.000000</td>\n",
       "      <td>0.000000</td>\n",
       "      <td>0.000000</td>\n",
       "      <td>0.000000</td>\n",
       "      <td>0.000000</td>\n",
       "      <td>0.000000</td>\n",
       "    </tr>\n",
       "    <tr>\n",
       "      <th>3</th>\n",
       "      <td>0.000000</td>\n",
       "      <td>0.000000</td>\n",
       "      <td>0.000000</td>\n",
       "      <td>0.000000</td>\n",
       "      <td>0.000000</td>\n",
       "      <td>0.000000</td>\n",
       "      <td>0.000000</td>\n",
       "      <td>0.000000</td>\n",
       "      <td>0.000000</td>\n",
       "      <td>0.000000</td>\n",
       "    </tr>\n",
       "    <tr>\n",
       "      <th>4</th>\n",
       "      <td>0.000000</td>\n",
       "      <td>0.000000</td>\n",
       "      <td>0.000000</td>\n",
       "      <td>0.000000</td>\n",
       "      <td>0.000000</td>\n",
       "      <td>0.000000</td>\n",
       "      <td>0.000000</td>\n",
       "      <td>0.000000</td>\n",
       "      <td>0.000000</td>\n",
       "      <td>0.000000</td>\n",
       "    </tr>\n",
       "    <tr>\n",
       "      <th>...</th>\n",
       "      <td>...</td>\n",
       "      <td>...</td>\n",
       "      <td>...</td>\n",
       "      <td>...</td>\n",
       "      <td>...</td>\n",
       "      <td>...</td>\n",
       "      <td>...</td>\n",
       "      <td>...</td>\n",
       "      <td>...</td>\n",
       "      <td>...</td>\n",
       "    </tr>\n",
       "    <tr>\n",
       "      <th>780</th>\n",
       "      <td>-0.082600</td>\n",
       "      <td>-0.000035</td>\n",
       "      <td>-0.000592</td>\n",
       "      <td>-0.000380</td>\n",
       "      <td>-0.011426</td>\n",
       "      <td>-0.001834</td>\n",
       "      <td>-0.000231</td>\n",
       "      <td>0.126359</td>\n",
       "      <td>-0.003446</td>\n",
       "      <td>-0.064877</td>\n",
       "    </tr>\n",
       "    <tr>\n",
       "      <th>781</th>\n",
       "      <td>0.000000</td>\n",
       "      <td>0.000000</td>\n",
       "      <td>0.000000</td>\n",
       "      <td>0.000000</td>\n",
       "      <td>0.000000</td>\n",
       "      <td>0.000000</td>\n",
       "      <td>0.000000</td>\n",
       "      <td>0.000000</td>\n",
       "      <td>0.000000</td>\n",
       "      <td>0.000000</td>\n",
       "    </tr>\n",
       "    <tr>\n",
       "      <th>782</th>\n",
       "      <td>0.000000</td>\n",
       "      <td>0.000000</td>\n",
       "      <td>0.000000</td>\n",
       "      <td>0.000000</td>\n",
       "      <td>0.000000</td>\n",
       "      <td>0.000000</td>\n",
       "      <td>0.000000</td>\n",
       "      <td>0.000000</td>\n",
       "      <td>0.000000</td>\n",
       "      <td>0.000000</td>\n",
       "    </tr>\n",
       "    <tr>\n",
       "      <th>783</th>\n",
       "      <td>0.000000</td>\n",
       "      <td>0.000000</td>\n",
       "      <td>0.000000</td>\n",
       "      <td>0.000000</td>\n",
       "      <td>0.000000</td>\n",
       "      <td>0.000000</td>\n",
       "      <td>0.000000</td>\n",
       "      <td>0.000000</td>\n",
       "      <td>0.000000</td>\n",
       "      <td>0.000000</td>\n",
       "    </tr>\n",
       "    <tr>\n",
       "      <th>784</th>\n",
       "      <td>0.000000</td>\n",
       "      <td>0.000000</td>\n",
       "      <td>0.000000</td>\n",
       "      <td>0.000000</td>\n",
       "      <td>0.000000</td>\n",
       "      <td>0.000000</td>\n",
       "      <td>0.000000</td>\n",
       "      <td>0.000000</td>\n",
       "      <td>0.000000</td>\n",
       "      <td>0.000000</td>\n",
       "    </tr>\n",
       "  </tbody>\n",
       "</table>\n",
       "<p>785 rows × 10 columns</p>\n",
       "</div>"
      ],
      "text/plain": [
       "            0         1         2         3         4         5         6  \\\n",
       "0   -0.083284 -0.017977 -0.109212 -0.176841 -0.065403 -0.001312 -0.101481   \n",
       "1    0.000000  0.000000  0.000000  0.000000  0.000000  0.000000  0.000000   \n",
       "2    0.000000  0.000000  0.000000  0.000000  0.000000  0.000000  0.000000   \n",
       "3    0.000000  0.000000  0.000000  0.000000  0.000000  0.000000  0.000000   \n",
       "4    0.000000  0.000000  0.000000  0.000000  0.000000  0.000000  0.000000   \n",
       "..        ...       ...       ...       ...       ...       ...       ...   \n",
       "780 -0.082600 -0.000035 -0.000592 -0.000380 -0.011426 -0.001834 -0.000231   \n",
       "781  0.000000  0.000000  0.000000  0.000000  0.000000  0.000000  0.000000   \n",
       "782  0.000000  0.000000  0.000000  0.000000  0.000000  0.000000  0.000000   \n",
       "783  0.000000  0.000000  0.000000  0.000000  0.000000  0.000000  0.000000   \n",
       "784  0.000000  0.000000  0.000000  0.000000  0.000000  0.000000  0.000000   \n",
       "\n",
       "            7         8         9  \n",
       "0   -0.035571 -0.483346 -0.214848  \n",
       "1    0.000000  0.000000  0.000000  \n",
       "2    0.000000  0.000000  0.000000  \n",
       "3    0.000000  0.000000  0.000000  \n",
       "4    0.000000  0.000000  0.000000  \n",
       "..        ...       ...       ...  \n",
       "780  0.126359 -0.003446 -0.064877  \n",
       "781  0.000000  0.000000  0.000000  \n",
       "782  0.000000  0.000000  0.000000  \n",
       "783  0.000000  0.000000  0.000000  \n",
       "784  0.000000  0.000000  0.000000  \n",
       "\n",
       "[785 rows x 10 columns]"
      ]
     },
     "execution_count": 24,
     "metadata": {},
     "output_type": "execute_result"
    }
   ],
   "source": [
    "theta1 = pd.DataFrame(theta)\n",
    "theta1"
   ]
  },
  {
   "cell_type": "code",
   "execution_count": 25,
   "id": "continent-brooks",
   "metadata": {},
   "outputs": [
    {
     "name": "stdout",
     "output_type": "stream",
     "text": [
      "[[0. 0. 1. ... 0. 0. 0.]\n",
      " [0. 1. 0. ... 0. 0. 0.]\n",
      " [1. 0. 0. ... 0. 0. 0.]\n",
      " ...\n",
      " [0. 0. 0. ... 0. 0. 0.]\n",
      " [0. 0. 0. ... 1. 0. 0.]\n",
      " [0. 0. 0. ... 0. 1. 0.]]\n"
     ]
    },
    {
     "data": {
      "text/plain": [
       "(1942, 10)"
      ]
     },
     "execution_count": 25,
     "metadata": {},
     "output_type": "execute_result"
    }
   ],
   "source": [
    "#Storing the encoded labels of test set in the same variable for further use\n",
    "\n",
    "y_enc = np.zeros([y_test.shape[0], np.unique(y_test).shape[0]])\n",
    "\n",
    "for i in range(np.unique(y_test).shape[0]):\n",
    "    \n",
    "    for j in range(0, len(y_enc)):\n",
    "        \n",
    "        if (y_test[j] == np.unique(y_test)[i]):\n",
    "            \n",
    "            y_enc[j, i] = 1\n",
    "            \n",
    "print(y_enc)\n",
    "y_enc.shape"
   ]
  },
  {
   "cell_type": "code",
   "execution_count": 26,
   "id": "green-chicago",
   "metadata": {},
   "outputs": [],
   "source": [
    "#Storing the values of hypothesis \n",
    "output = np.empty((y_enc.shape[1], y_enc.shape[0]))\n",
    "\n",
    "for i in range(y_enc.shape[1]):\n",
    "\n",
    "    #h = hypothesis(theta[:,i], x_train)\n",
    "    h = hypothesis(theta[:,i], x_test)\n",
    "    \n",
    "    output[i] = h"
   ]
  },
  {
   "cell_type": "code",
   "execution_count": 27,
   "id": "arranged-satellite",
   "metadata": {
    "scrolled": true
   },
   "outputs": [
    {
     "name": "stdout",
     "output_type": "stream",
     "text": [
      "[[2.15090442e-04 7.32397863e-06 9.82273780e-01 ... 9.94985324e-01\n",
      "  2.36836785e-03 1.33569348e-05]\n",
      " [7.66386668e-08 9.87532810e-01 1.89900339e-14 ... 6.07826100e-10\n",
      "  6.29780737e-10 2.90996259e-04]\n",
      " [9.95276032e-01 3.77579813e-02 4.90527394e-04 ... 5.06012787e-07\n",
      "  5.91429555e-03 8.05974786e-02]\n",
      " ...\n",
      " [4.16403207e-15 4.19814530e-03 1.38565013e-04 ... 2.01157358e-05\n",
      "  6.89494448e-02 1.65095615e-04]\n",
      " [2.28173502e-05 2.40281888e-02 1.91450101e-04 ... 3.97360745e-02\n",
      "  1.83170286e-01 6.12027742e-01]\n",
      " [5.84692324e-13 2.47043642e-03 1.89185063e-05 ... 1.92261606e-04\n",
      "  1.32721644e-03 1.92763721e-04]]\n"
     ]
    },
    {
     "data": {
      "text/plain": [
       "(10, 1942)"
      ]
     },
     "execution_count": 27,
     "metadata": {},
     "output_type": "execute_result"
    }
   ],
   "source": [
    "print(output)\n",
    "output.shape"
   ]
  },
  {
   "cell_type": "code",
   "execution_count": 28,
   "id": "fixed-thumbnail",
   "metadata": {},
   "outputs": [
    {
     "data": {
      "text/html": [
       "<div>\n",
       "<style scoped>\n",
       "    .dataframe tbody tr th:only-of-type {\n",
       "        vertical-align: middle;\n",
       "    }\n",
       "\n",
       "    .dataframe tbody tr th {\n",
       "        vertical-align: top;\n",
       "    }\n",
       "\n",
       "    .dataframe thead th {\n",
       "        text-align: right;\n",
       "    }\n",
       "</style>\n",
       "<table border=\"1\" class=\"dataframe\">\n",
       "  <thead>\n",
       "    <tr style=\"text-align: right;\">\n",
       "      <th></th>\n",
       "      <th>0</th>\n",
       "      <th>1</th>\n",
       "      <th>2</th>\n",
       "      <th>3</th>\n",
       "      <th>4</th>\n",
       "      <th>5</th>\n",
       "      <th>6</th>\n",
       "      <th>7</th>\n",
       "      <th>8</th>\n",
       "      <th>9</th>\n",
       "      <th>...</th>\n",
       "      <th>1932</th>\n",
       "      <th>1933</th>\n",
       "      <th>1934</th>\n",
       "      <th>1935</th>\n",
       "      <th>1936</th>\n",
       "      <th>1937</th>\n",
       "      <th>1938</th>\n",
       "      <th>1939</th>\n",
       "      <th>1940</th>\n",
       "      <th>1941</th>\n",
       "    </tr>\n",
       "  </thead>\n",
       "  <tbody>\n",
       "    <tr>\n",
       "      <th>0</th>\n",
       "      <td>2.150904e-04</td>\n",
       "      <td>0.000007</td>\n",
       "      <td>9.822738e-01</td>\n",
       "      <td>3.101827e-03</td>\n",
       "      <td>6.477336e-07</td>\n",
       "      <td>3.239435e-04</td>\n",
       "      <td>9.245239e-08</td>\n",
       "      <td>1.720507e-04</td>\n",
       "      <td>2.183479e-06</td>\n",
       "      <td>9.655734e-01</td>\n",
       "      <td>...</td>\n",
       "      <td>5.811428e-06</td>\n",
       "      <td>2.145108e-08</td>\n",
       "      <td>3.902051e-03</td>\n",
       "      <td>2.307858e-07</td>\n",
       "      <td>2.381637e-06</td>\n",
       "      <td>9.977375e-03</td>\n",
       "      <td>2.188851e-07</td>\n",
       "      <td>9.949853e-01</td>\n",
       "      <td>2.368368e-03</td>\n",
       "      <td>0.000013</td>\n",
       "    </tr>\n",
       "    <tr>\n",
       "      <th>1</th>\n",
       "      <td>7.663867e-08</td>\n",
       "      <td>0.987533</td>\n",
       "      <td>1.899003e-14</td>\n",
       "      <td>1.884757e-07</td>\n",
       "      <td>9.935522e-01</td>\n",
       "      <td>4.086656e-07</td>\n",
       "      <td>1.959418e-02</td>\n",
       "      <td>2.046166e-08</td>\n",
       "      <td>1.386390e-12</td>\n",
       "      <td>2.121763e-11</td>\n",
       "      <td>...</td>\n",
       "      <td>2.576161e-07</td>\n",
       "      <td>9.963624e-01</td>\n",
       "      <td>1.524131e-04</td>\n",
       "      <td>1.622241e-08</td>\n",
       "      <td>3.084072e-05</td>\n",
       "      <td>6.438050e-09</td>\n",
       "      <td>9.887624e-01</td>\n",
       "      <td>6.078261e-10</td>\n",
       "      <td>6.297807e-10</td>\n",
       "      <td>0.000291</td>\n",
       "    </tr>\n",
       "    <tr>\n",
       "      <th>2</th>\n",
       "      <td>9.952760e-01</td>\n",
       "      <td>0.037758</td>\n",
       "      <td>4.905274e-04</td>\n",
       "      <td>2.939951e-03</td>\n",
       "      <td>1.085822e-02</td>\n",
       "      <td>6.222290e-07</td>\n",
       "      <td>1.693406e-03</td>\n",
       "      <td>1.371277e-05</td>\n",
       "      <td>3.199184e-09</td>\n",
       "      <td>3.338508e-02</td>\n",
       "      <td>...</td>\n",
       "      <td>1.641798e-01</td>\n",
       "      <td>3.368860e-03</td>\n",
       "      <td>5.161296e-03</td>\n",
       "      <td>9.802968e-01</td>\n",
       "      <td>2.221212e-02</td>\n",
       "      <td>5.217450e-01</td>\n",
       "      <td>1.117104e-03</td>\n",
       "      <td>5.060128e-07</td>\n",
       "      <td>5.914296e-03</td>\n",
       "      <td>0.080597</td>\n",
       "    </tr>\n",
       "    <tr>\n",
       "      <th>3</th>\n",
       "      <td>5.809234e-03</td>\n",
       "      <td>0.012519</td>\n",
       "      <td>2.229788e-05</td>\n",
       "      <td>1.250215e-05</td>\n",
       "      <td>2.188133e-02</td>\n",
       "      <td>2.742399e-03</td>\n",
       "      <td>6.028493e-03</td>\n",
       "      <td>7.056648e-11</td>\n",
       "      <td>1.136542e-08</td>\n",
       "      <td>7.779766e-04</td>\n",
       "      <td>...</td>\n",
       "      <td>3.559136e-03</td>\n",
       "      <td>2.002423e-02</td>\n",
       "      <td>1.370291e-03</td>\n",
       "      <td>1.571375e-03</td>\n",
       "      <td>5.562442e-04</td>\n",
       "      <td>7.871887e-05</td>\n",
       "      <td>9.502216e-03</td>\n",
       "      <td>1.964165e-08</td>\n",
       "      <td>9.405274e-10</td>\n",
       "      <td>0.000924</td>\n",
       "    </tr>\n",
       "    <tr>\n",
       "      <th>4</th>\n",
       "      <td>3.761986e-12</td>\n",
       "      <td>0.002498</td>\n",
       "      <td>3.043166e-08</td>\n",
       "      <td>9.893661e-01</td>\n",
       "      <td>5.360708e-04</td>\n",
       "      <td>9.885737e-01</td>\n",
       "      <td>6.474950e-03</td>\n",
       "      <td>1.041075e-02</td>\n",
       "      <td>8.798955e-03</td>\n",
       "      <td>3.191078e-05</td>\n",
       "      <td>...</td>\n",
       "      <td>4.659427e-04</td>\n",
       "      <td>1.114971e-05</td>\n",
       "      <td>9.908623e-05</td>\n",
       "      <td>2.287780e-09</td>\n",
       "      <td>1.197767e-06</td>\n",
       "      <td>2.781343e-01</td>\n",
       "      <td>1.307983e-05</td>\n",
       "      <td>4.151451e-02</td>\n",
       "      <td>1.661294e-01</td>\n",
       "      <td>0.402454</td>\n",
       "    </tr>\n",
       "    <tr>\n",
       "      <th>5</th>\n",
       "      <td>3.028545e-02</td>\n",
       "      <td>0.013838</td>\n",
       "      <td>4.134420e-05</td>\n",
       "      <td>6.681707e-05</td>\n",
       "      <td>1.824849e-03</td>\n",
       "      <td>1.056394e-01</td>\n",
       "      <td>3.949909e-01</td>\n",
       "      <td>8.216056e-03</td>\n",
       "      <td>6.291413e-06</td>\n",
       "      <td>1.003066e-02</td>\n",
       "      <td>...</td>\n",
       "      <td>2.176491e-05</td>\n",
       "      <td>2.454251e-03</td>\n",
       "      <td>2.363845e-03</td>\n",
       "      <td>1.572721e-07</td>\n",
       "      <td>1.482152e-03</td>\n",
       "      <td>4.486810e-03</td>\n",
       "      <td>1.804649e-02</td>\n",
       "      <td>9.957737e-01</td>\n",
       "      <td>2.465507e-03</td>\n",
       "      <td>0.408160</td>\n",
       "    </tr>\n",
       "    <tr>\n",
       "      <th>6</th>\n",
       "      <td>1.334009e-02</td>\n",
       "      <td>0.013049</td>\n",
       "      <td>1.458345e-03</td>\n",
       "      <td>8.758095e-03</td>\n",
       "      <td>4.867005e-04</td>\n",
       "      <td>1.085684e-04</td>\n",
       "      <td>5.525003e-04</td>\n",
       "      <td>5.891715e-01</td>\n",
       "      <td>1.343734e-06</td>\n",
       "      <td>2.846200e-04</td>\n",
       "      <td>...</td>\n",
       "      <td>4.934289e-06</td>\n",
       "      <td>2.687847e-03</td>\n",
       "      <td>3.733328e-08</td>\n",
       "      <td>6.151659e-04</td>\n",
       "      <td>9.918174e-01</td>\n",
       "      <td>8.689244e-01</td>\n",
       "      <td>2.927678e-03</td>\n",
       "      <td>5.332627e-06</td>\n",
       "      <td>3.388235e-06</td>\n",
       "      <td>0.014448</td>\n",
       "    </tr>\n",
       "    <tr>\n",
       "      <th>7</th>\n",
       "      <td>4.164032e-15</td>\n",
       "      <td>0.004198</td>\n",
       "      <td>1.385650e-04</td>\n",
       "      <td>5.987723e-03</td>\n",
       "      <td>3.958300e-02</td>\n",
       "      <td>7.740383e-04</td>\n",
       "      <td>6.805294e-04</td>\n",
       "      <td>3.852398e-11</td>\n",
       "      <td>1.320123e-01</td>\n",
       "      <td>1.875578e-08</td>\n",
       "      <td>...</td>\n",
       "      <td>9.267663e-01</td>\n",
       "      <td>9.644344e-04</td>\n",
       "      <td>9.937442e-01</td>\n",
       "      <td>1.088854e-07</td>\n",
       "      <td>1.033758e-11</td>\n",
       "      <td>1.571247e-04</td>\n",
       "      <td>1.886849e-03</td>\n",
       "      <td>2.011574e-05</td>\n",
       "      <td>6.894944e-02</td>\n",
       "      <td>0.000165</td>\n",
       "    </tr>\n",
       "    <tr>\n",
       "      <th>8</th>\n",
       "      <td>2.281735e-05</td>\n",
       "      <td>0.024028</td>\n",
       "      <td>1.914501e-04</td>\n",
       "      <td>1.921154e-02</td>\n",
       "      <td>2.031399e-02</td>\n",
       "      <td>7.562906e-01</td>\n",
       "      <td>1.103704e-02</td>\n",
       "      <td>2.468626e-05</td>\n",
       "      <td>2.891173e-03</td>\n",
       "      <td>1.437629e-02</td>\n",
       "      <td>...</td>\n",
       "      <td>5.076839e-02</td>\n",
       "      <td>1.074345e-02</td>\n",
       "      <td>7.093018e-03</td>\n",
       "      <td>1.100197e-03</td>\n",
       "      <td>2.220631e-02</td>\n",
       "      <td>2.045180e-02</td>\n",
       "      <td>7.145630e-02</td>\n",
       "      <td>3.973607e-02</td>\n",
       "      <td>1.831703e-01</td>\n",
       "      <td>0.612028</td>\n",
       "    </tr>\n",
       "    <tr>\n",
       "      <th>9</th>\n",
       "      <td>5.846923e-13</td>\n",
       "      <td>0.002470</td>\n",
       "      <td>1.891851e-05</td>\n",
       "      <td>4.235666e-02</td>\n",
       "      <td>9.768006e-03</td>\n",
       "      <td>2.112055e-02</td>\n",
       "      <td>9.411294e-01</td>\n",
       "      <td>7.093121e-07</td>\n",
       "      <td>5.833646e-01</td>\n",
       "      <td>1.212286e-08</td>\n",
       "      <td>...</td>\n",
       "      <td>1.637307e-01</td>\n",
       "      <td>7.090184e-03</td>\n",
       "      <td>1.182309e-02</td>\n",
       "      <td>1.363552e-09</td>\n",
       "      <td>5.010256e-06</td>\n",
       "      <td>1.920656e-02</td>\n",
       "      <td>2.694914e-02</td>\n",
       "      <td>1.922616e-04</td>\n",
       "      <td>1.327216e-03</td>\n",
       "      <td>0.000193</td>\n",
       "    </tr>\n",
       "  </tbody>\n",
       "</table>\n",
       "<p>10 rows × 1942 columns</p>\n",
       "</div>"
      ],
      "text/plain": [
       "           0         1             2             3             4     \\\n",
       "0  2.150904e-04  0.000007  9.822738e-01  3.101827e-03  6.477336e-07   \n",
       "1  7.663867e-08  0.987533  1.899003e-14  1.884757e-07  9.935522e-01   \n",
       "2  9.952760e-01  0.037758  4.905274e-04  2.939951e-03  1.085822e-02   \n",
       "3  5.809234e-03  0.012519  2.229788e-05  1.250215e-05  2.188133e-02   \n",
       "4  3.761986e-12  0.002498  3.043166e-08  9.893661e-01  5.360708e-04   \n",
       "5  3.028545e-02  0.013838  4.134420e-05  6.681707e-05  1.824849e-03   \n",
       "6  1.334009e-02  0.013049  1.458345e-03  8.758095e-03  4.867005e-04   \n",
       "7  4.164032e-15  0.004198  1.385650e-04  5.987723e-03  3.958300e-02   \n",
       "8  2.281735e-05  0.024028  1.914501e-04  1.921154e-02  2.031399e-02   \n",
       "9  5.846923e-13  0.002470  1.891851e-05  4.235666e-02  9.768006e-03   \n",
       "\n",
       "           5             6             7             8             9     ...  \\\n",
       "0  3.239435e-04  9.245239e-08  1.720507e-04  2.183479e-06  9.655734e-01  ...   \n",
       "1  4.086656e-07  1.959418e-02  2.046166e-08  1.386390e-12  2.121763e-11  ...   \n",
       "2  6.222290e-07  1.693406e-03  1.371277e-05  3.199184e-09  3.338508e-02  ...   \n",
       "3  2.742399e-03  6.028493e-03  7.056648e-11  1.136542e-08  7.779766e-04  ...   \n",
       "4  9.885737e-01  6.474950e-03  1.041075e-02  8.798955e-03  3.191078e-05  ...   \n",
       "5  1.056394e-01  3.949909e-01  8.216056e-03  6.291413e-06  1.003066e-02  ...   \n",
       "6  1.085684e-04  5.525003e-04  5.891715e-01  1.343734e-06  2.846200e-04  ...   \n",
       "7  7.740383e-04  6.805294e-04  3.852398e-11  1.320123e-01  1.875578e-08  ...   \n",
       "8  7.562906e-01  1.103704e-02  2.468626e-05  2.891173e-03  1.437629e-02  ...   \n",
       "9  2.112055e-02  9.411294e-01  7.093121e-07  5.833646e-01  1.212286e-08  ...   \n",
       "\n",
       "           1932          1933          1934          1935          1936  \\\n",
       "0  5.811428e-06  2.145108e-08  3.902051e-03  2.307858e-07  2.381637e-06   \n",
       "1  2.576161e-07  9.963624e-01  1.524131e-04  1.622241e-08  3.084072e-05   \n",
       "2  1.641798e-01  3.368860e-03  5.161296e-03  9.802968e-01  2.221212e-02   \n",
       "3  3.559136e-03  2.002423e-02  1.370291e-03  1.571375e-03  5.562442e-04   \n",
       "4  4.659427e-04  1.114971e-05  9.908623e-05  2.287780e-09  1.197767e-06   \n",
       "5  2.176491e-05  2.454251e-03  2.363845e-03  1.572721e-07  1.482152e-03   \n",
       "6  4.934289e-06  2.687847e-03  3.733328e-08  6.151659e-04  9.918174e-01   \n",
       "7  9.267663e-01  9.644344e-04  9.937442e-01  1.088854e-07  1.033758e-11   \n",
       "8  5.076839e-02  1.074345e-02  7.093018e-03  1.100197e-03  2.220631e-02   \n",
       "9  1.637307e-01  7.090184e-03  1.182309e-02  1.363552e-09  5.010256e-06   \n",
       "\n",
       "           1937          1938          1939          1940      1941  \n",
       "0  9.977375e-03  2.188851e-07  9.949853e-01  2.368368e-03  0.000013  \n",
       "1  6.438050e-09  9.887624e-01  6.078261e-10  6.297807e-10  0.000291  \n",
       "2  5.217450e-01  1.117104e-03  5.060128e-07  5.914296e-03  0.080597  \n",
       "3  7.871887e-05  9.502216e-03  1.964165e-08  9.405274e-10  0.000924  \n",
       "4  2.781343e-01  1.307983e-05  4.151451e-02  1.661294e-01  0.402454  \n",
       "5  4.486810e-03  1.804649e-02  9.957737e-01  2.465507e-03  0.408160  \n",
       "6  8.689244e-01  2.927678e-03  5.332627e-06  3.388235e-06  0.014448  \n",
       "7  1.571247e-04  1.886849e-03  2.011574e-05  6.894944e-02  0.000165  \n",
       "8  2.045180e-02  7.145630e-02  3.973607e-02  1.831703e-01  0.612028  \n",
       "9  1.920656e-02  2.694914e-02  1.922616e-04  1.327216e-03  0.000193  \n",
       "\n",
       "[10 rows x 1942 columns]"
      ]
     },
     "execution_count": 28,
     "metadata": {},
     "output_type": "execute_result"
    }
   ],
   "source": [
    "output1 = pd.DataFrame(output)\n",
    "output1"
   ]
  },
  {
   "cell_type": "code",
   "execution_count": 29,
   "id": "played-river",
   "metadata": {},
   "outputs": [
    {
     "data": {
      "text/plain": [
       "0.9188778255264878"
      ]
     },
     "execution_count": 29,
     "metadata": {},
     "output_type": "execute_result"
    }
   ],
   "source": [
    "#cost_function(x_train, y_enc, theta)\n",
    "cost_function(x_test, y_enc, theta)"
   ]
  },
  {
   "cell_type": "code",
   "execution_count": 30,
   "id": "valid-cookie",
   "metadata": {},
   "outputs": [
    {
     "data": {
      "image/png": "[encoded data removed]",
      "text/plain": [
       "<Figure size 432x288 with 1 Axes>"
      ]
     },
     "metadata": {
      "needs_background": "light"
     },
     "output_type": "display_data"
    }
   ],
   "source": [
    "# visualising cost functions after each iteration\n",
    "plt.plot(cost)\n",
    "plt.xlabel(\"Number of iterations\")\n",
    "plt.ylabel(\"Cost\")\n",
    "plt.show()"
   ]
  },
  {
   "cell_type": "code",
   "execution_count": 31,
   "id": "mounted-local",
   "metadata": {},
   "outputs": [],
   "source": [
    "#Predicted labels\n",
    "y_pred = np.empty((y_enc.shape[0], 1))\n",
    "\n",
    "for q in range(0, y_enc.shape[0]):\n",
    "    \n",
    "    for p in range(0, y_enc.shape[1]):\n",
    "        \n",
    "        if (output[p,q] == np.max(output[:,q])):\n",
    "            \n",
    "            y_pred[q] = p "
   ]
  },
  {
   "cell_type": "code",
   "execution_count": 32,
   "id": "annual-garden",
   "metadata": {},
   "outputs": [
    {
     "data": {
      "text/plain": [
       "array([[2.],\n",
       "       [1.],\n",
       "       [0.],\n",
       "       ...,\n",
       "       [5.],\n",
       "       [8.],\n",
       "       [8.]])"
      ]
     },
     "execution_count": 32,
     "metadata": {},
     "output_type": "execute_result"
    }
   ],
   "source": [
    "y_pred"
   ]
  },
  {
   "cell_type": "code",
   "execution_count": 33,
   "id": "sunset-opposition",
   "metadata": {},
   "outputs": [
    {
     "name": "stdout",
     "output_type": "stream",
     "text": [
      "      Actual  Predicted\n",
      "0        2.0        2.0\n",
      "1        1.0        1.0\n",
      "2        0.0        0.0\n",
      "3        4.0        4.0\n",
      "4        1.0        1.0\n",
      "...      ...        ...\n",
      "1937     4.0        6.0\n",
      "1938     1.0        1.0\n",
      "1939     5.0        5.0\n",
      "1940     7.0        8.0\n",
      "1941     8.0        8.0\n",
      "\n",
      "[1942 rows x 2 columns]\n"
     ]
    }
   ],
   "source": [
    "#l = np.hstack((y_train, y_pred))\n",
    "l = np.hstack((y_test, y_pred))\n",
    "\n",
    "result = pd.DataFrame(l, columns = [\"Actual\", \"Predicted\"])\n",
    "\n",
    "print(result)"
   ]
  },
  {
   "cell_type": "code",
   "execution_count": 34,
   "id": "comfortable-identification",
   "metadata": {},
   "outputs": [
    {
     "name": "stdout",
     "output_type": "stream",
     "text": [
      "Accuracy of the model is: 89.28939237899073 %\n"
     ]
    }
   ],
   "source": [
    "from sklearn.metrics import accuracy_score\n",
    "\n",
    "#print (\"Accuracy of the model is: \", accuracy_score(y_pred, y_train))\n",
    "print (\"Accuracy of the model is:\", accuracy_score(y_pred, y_test)*100, \"%\")"
   ]
  }
 ],
 "metadata": {
  "kernelspec": {
   "display_name": "Python 3",
   "language": "python",
   "name": "python3"
  },
  "language_info": {
   "codemirror_mode": {
    "name": "ipython",
    "version": 3
   },
   "file_extension": ".py",
   "mimetype": "text/x-python",
   "name": "python",
   "nbconvert_exporter": "python",
   "pygments_lexer": "ipython3",
   "version": "3.8.5"
  }
 },
 "nbformat": 4,
 "nbformat_minor": 5
}
