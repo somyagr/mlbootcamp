{
 "cells": [
  {
   "cell_type": "markdown",
   "id": "contained-consideration",
   "metadata": {},
   "source": [
    "# **Importing the libraries**"
   ]
  },
  {
   "cell_type": "code",
   "execution_count": 1,
   "id": "desirable-official",
   "metadata": {},
   "outputs": [],
   "source": [
    "import numpy as np \n",
    "  \n",
    "import pandas as pd \n",
    "  \n",
    "import matplotlib.pyplot as plt "
   ]
  },
  {
   "cell_type": "markdown",
   "id": "structured-steering",
   "metadata": {},
   "source": [
    "# **Importing the datasets**"
   ]
  },
  {
   "cell_type": "code",
   "execution_count": 2,
   "id": "dirty-volunteer",
   "metadata": {},
   "outputs": [],
   "source": [
    "train_df = pd.read_csv(\"/home/somya/Downloads/mnist_train_small.csv\")\n",
    "test_df = pd.read_csv(\"/home/somya/Downloads/mnist_test.csv\")"
   ]
  },
  {
   "cell_type": "code",
   "execution_count": 3,
   "id": "subtle-first",
   "metadata": {},
   "outputs": [
    {
     "data": {
      "text/html": [
       "<div>\n",
       "<style scoped>\n",
       "    .dataframe tbody tr th:only-of-type {\n",
       "        vertical-align: middle;\n",
       "    }\n",
       "\n",
       "    .dataframe tbody tr th {\n",
       "        vertical-align: top;\n",
       "    }\n",
       "\n",
       "    .dataframe thead th {\n",
       "        text-align: right;\n",
       "    }\n",
       "</style>\n",
       "<table border=\"1\" class=\"dataframe\">\n",
       "  <thead>\n",
       "    <tr style=\"text-align: right;\">\n",
       "      <th></th>\n",
       "      <th>6</th>\n",
       "      <th>0</th>\n",
       "      <th>0.1</th>\n",
       "      <th>0.2</th>\n",
       "      <th>0.3</th>\n",
       "      <th>0.4</th>\n",
       "      <th>0.5</th>\n",
       "      <th>0.6</th>\n",
       "      <th>0.7</th>\n",
       "      <th>0.8</th>\n",
       "      <th>...</th>\n",
       "      <th>0.581</th>\n",
       "      <th>0.582</th>\n",
       "      <th>0.583</th>\n",
       "      <th>0.584</th>\n",
       "      <th>0.585</th>\n",
       "      <th>0.586</th>\n",
       "      <th>0.587</th>\n",
       "      <th>0.588</th>\n",
       "      <th>0.589</th>\n",
       "      <th>0.590</th>\n",
       "    </tr>\n",
       "  </thead>\n",
       "  <tbody>\n",
       "    <tr>\n",
       "      <th>0</th>\n",
       "      <td>5</td>\n",
       "      <td>0</td>\n",
       "      <td>0</td>\n",
       "      <td>0</td>\n",
       "      <td>0</td>\n",
       "      <td>0</td>\n",
       "      <td>0</td>\n",
       "      <td>0</td>\n",
       "      <td>0</td>\n",
       "      <td>0</td>\n",
       "      <td>...</td>\n",
       "      <td>0</td>\n",
       "      <td>0</td>\n",
       "      <td>0</td>\n",
       "      <td>0</td>\n",
       "      <td>0</td>\n",
       "      <td>0</td>\n",
       "      <td>0</td>\n",
       "      <td>0</td>\n",
       "      <td>0</td>\n",
       "      <td>0</td>\n",
       "    </tr>\n",
       "    <tr>\n",
       "      <th>1</th>\n",
       "      <td>7</td>\n",
       "      <td>0</td>\n",
       "      <td>0</td>\n",
       "      <td>0</td>\n",
       "      <td>0</td>\n",
       "      <td>0</td>\n",
       "      <td>0</td>\n",
       "      <td>0</td>\n",
       "      <td>0</td>\n",
       "      <td>0</td>\n",
       "      <td>...</td>\n",
       "      <td>0</td>\n",
       "      <td>0</td>\n",
       "      <td>0</td>\n",
       "      <td>0</td>\n",
       "      <td>0</td>\n",
       "      <td>0</td>\n",
       "      <td>0</td>\n",
       "      <td>0</td>\n",
       "      <td>0</td>\n",
       "      <td>0</td>\n",
       "    </tr>\n",
       "    <tr>\n",
       "      <th>2</th>\n",
       "      <td>9</td>\n",
       "      <td>0</td>\n",
       "      <td>0</td>\n",
       "      <td>0</td>\n",
       "      <td>0</td>\n",
       "      <td>0</td>\n",
       "      <td>0</td>\n",
       "      <td>0</td>\n",
       "      <td>0</td>\n",
       "      <td>0</td>\n",
       "      <td>...</td>\n",
       "      <td>0</td>\n",
       "      <td>0</td>\n",
       "      <td>0</td>\n",
       "      <td>0</td>\n",
       "      <td>0</td>\n",
       "      <td>0</td>\n",
       "      <td>0</td>\n",
       "      <td>0</td>\n",
       "      <td>0</td>\n",
       "      <td>0</td>\n",
       "    </tr>\n",
       "    <tr>\n",
       "      <th>3</th>\n",
       "      <td>5</td>\n",
       "      <td>0</td>\n",
       "      <td>0</td>\n",
       "      <td>0</td>\n",
       "      <td>0</td>\n",
       "      <td>0</td>\n",
       "      <td>0</td>\n",
       "      <td>0</td>\n",
       "      <td>0</td>\n",
       "      <td>0</td>\n",
       "      <td>...</td>\n",
       "      <td>0</td>\n",
       "      <td>0</td>\n",
       "      <td>0</td>\n",
       "      <td>0</td>\n",
       "      <td>0</td>\n",
       "      <td>0</td>\n",
       "      <td>0</td>\n",
       "      <td>0</td>\n",
       "      <td>0</td>\n",
       "      <td>0</td>\n",
       "    </tr>\n",
       "    <tr>\n",
       "      <th>4</th>\n",
       "      <td>2</td>\n",
       "      <td>0</td>\n",
       "      <td>0</td>\n",
       "      <td>0</td>\n",
       "      <td>0</td>\n",
       "      <td>0</td>\n",
       "      <td>0</td>\n",
       "      <td>0</td>\n",
       "      <td>0</td>\n",
       "      <td>0</td>\n",
       "      <td>...</td>\n",
       "      <td>0</td>\n",
       "      <td>0</td>\n",
       "      <td>0</td>\n",
       "      <td>0</td>\n",
       "      <td>0</td>\n",
       "      <td>0</td>\n",
       "      <td>0</td>\n",
       "      <td>0</td>\n",
       "      <td>0</td>\n",
       "      <td>0</td>\n",
       "    </tr>\n",
       "  </tbody>\n",
       "</table>\n",
       "<p>5 rows × 785 columns</p>\n",
       "</div>"
      ],
      "text/plain": [
       "   6  0  0.1  0.2  0.3  0.4  0.5  0.6  0.7  0.8  ...  0.581  0.582  0.583  \\\n",
       "0  5  0    0    0    0    0    0    0    0    0  ...      0      0      0   \n",
       "1  7  0    0    0    0    0    0    0    0    0  ...      0      0      0   \n",
       "2  9  0    0    0    0    0    0    0    0    0  ...      0      0      0   \n",
       "3  5  0    0    0    0    0    0    0    0    0  ...      0      0      0   \n",
       "4  2  0    0    0    0    0    0    0    0    0  ...      0      0      0   \n",
       "\n",
       "   0.584  0.585  0.586  0.587  0.588  0.589  0.590  \n",
       "0      0      0      0      0      0      0      0  \n",
       "1      0      0      0      0      0      0      0  \n",
       "2      0      0      0      0      0      0      0  \n",
       "3      0      0      0      0      0      0      0  \n",
       "4      0      0      0      0      0      0      0  \n",
       "\n",
       "[5 rows x 785 columns]"
      ]
     },
     "execution_count": 3,
     "metadata": {},
     "output_type": "execute_result"
    }
   ],
   "source": [
    "train_df.head()"
   ]
  },
  {
   "cell_type": "code",
   "execution_count": 4,
   "id": "surrounded-preserve",
   "metadata": {},
   "outputs": [
    {
     "data": {
      "text/html": [
       "<div>\n",
       "<style scoped>\n",
       "    .dataframe tbody tr th:only-of-type {\n",
       "        vertical-align: middle;\n",
       "    }\n",
       "\n",
       "    .dataframe tbody tr th {\n",
       "        vertical-align: top;\n",
       "    }\n",
       "\n",
       "    .dataframe thead th {\n",
       "        text-align: right;\n",
       "    }\n",
       "</style>\n",
       "<table border=\"1\" class=\"dataframe\">\n",
       "  <thead>\n",
       "    <tr style=\"text-align: right;\">\n",
       "      <th></th>\n",
       "      <th>7</th>\n",
       "      <th>0</th>\n",
       "      <th>0.1</th>\n",
       "      <th>0.2</th>\n",
       "      <th>0.3</th>\n",
       "      <th>0.4</th>\n",
       "      <th>0.5</th>\n",
       "      <th>0.6</th>\n",
       "      <th>0.7</th>\n",
       "      <th>0.8</th>\n",
       "      <th>...</th>\n",
       "      <th>0.658</th>\n",
       "      <th>0.659</th>\n",
       "      <th>0.660</th>\n",
       "      <th>0.661</th>\n",
       "      <th>0.662</th>\n",
       "      <th>0.663</th>\n",
       "      <th>0.664</th>\n",
       "      <th>0.665</th>\n",
       "      <th>0.666</th>\n",
       "      <th>0.667</th>\n",
       "    </tr>\n",
       "  </thead>\n",
       "  <tbody>\n",
       "    <tr>\n",
       "      <th>0</th>\n",
       "      <td>2</td>\n",
       "      <td>0</td>\n",
       "      <td>0</td>\n",
       "      <td>0</td>\n",
       "      <td>0</td>\n",
       "      <td>0</td>\n",
       "      <td>0</td>\n",
       "      <td>0.0</td>\n",
       "      <td>0.0</td>\n",
       "      <td>0.0</td>\n",
       "      <td>...</td>\n",
       "      <td>0.0</td>\n",
       "      <td>0.0</td>\n",
       "      <td>0.0</td>\n",
       "      <td>0.0</td>\n",
       "      <td>0.0</td>\n",
       "      <td>0.0</td>\n",
       "      <td>0.0</td>\n",
       "      <td>0.0</td>\n",
       "      <td>0.0</td>\n",
       "      <td>0.0</td>\n",
       "    </tr>\n",
       "    <tr>\n",
       "      <th>1</th>\n",
       "      <td>1</td>\n",
       "      <td>0</td>\n",
       "      <td>0</td>\n",
       "      <td>0</td>\n",
       "      <td>0</td>\n",
       "      <td>0</td>\n",
       "      <td>0</td>\n",
       "      <td>0.0</td>\n",
       "      <td>0.0</td>\n",
       "      <td>0.0</td>\n",
       "      <td>...</td>\n",
       "      <td>0.0</td>\n",
       "      <td>0.0</td>\n",
       "      <td>0.0</td>\n",
       "      <td>0.0</td>\n",
       "      <td>0.0</td>\n",
       "      <td>0.0</td>\n",
       "      <td>0.0</td>\n",
       "      <td>0.0</td>\n",
       "      <td>0.0</td>\n",
       "      <td>0.0</td>\n",
       "    </tr>\n",
       "    <tr>\n",
       "      <th>2</th>\n",
       "      <td>0</td>\n",
       "      <td>0</td>\n",
       "      <td>0</td>\n",
       "      <td>0</td>\n",
       "      <td>0</td>\n",
       "      <td>0</td>\n",
       "      <td>0</td>\n",
       "      <td>0.0</td>\n",
       "      <td>0.0</td>\n",
       "      <td>0.0</td>\n",
       "      <td>...</td>\n",
       "      <td>0.0</td>\n",
       "      <td>0.0</td>\n",
       "      <td>0.0</td>\n",
       "      <td>0.0</td>\n",
       "      <td>0.0</td>\n",
       "      <td>0.0</td>\n",
       "      <td>0.0</td>\n",
       "      <td>0.0</td>\n",
       "      <td>0.0</td>\n",
       "      <td>0.0</td>\n",
       "    </tr>\n",
       "    <tr>\n",
       "      <th>3</th>\n",
       "      <td>4</td>\n",
       "      <td>0</td>\n",
       "      <td>0</td>\n",
       "      <td>0</td>\n",
       "      <td>0</td>\n",
       "      <td>0</td>\n",
       "      <td>0</td>\n",
       "      <td>0.0</td>\n",
       "      <td>0.0</td>\n",
       "      <td>0.0</td>\n",
       "      <td>...</td>\n",
       "      <td>0.0</td>\n",
       "      <td>0.0</td>\n",
       "      <td>0.0</td>\n",
       "      <td>0.0</td>\n",
       "      <td>0.0</td>\n",
       "      <td>0.0</td>\n",
       "      <td>0.0</td>\n",
       "      <td>0.0</td>\n",
       "      <td>0.0</td>\n",
       "      <td>0.0</td>\n",
       "    </tr>\n",
       "    <tr>\n",
       "      <th>4</th>\n",
       "      <td>1</td>\n",
       "      <td>0</td>\n",
       "      <td>0</td>\n",
       "      <td>0</td>\n",
       "      <td>0</td>\n",
       "      <td>0</td>\n",
       "      <td>0</td>\n",
       "      <td>0.0</td>\n",
       "      <td>0.0</td>\n",
       "      <td>0.0</td>\n",
       "      <td>...</td>\n",
       "      <td>0.0</td>\n",
       "      <td>0.0</td>\n",
       "      <td>0.0</td>\n",
       "      <td>0.0</td>\n",
       "      <td>0.0</td>\n",
       "      <td>0.0</td>\n",
       "      <td>0.0</td>\n",
       "      <td>0.0</td>\n",
       "      <td>0.0</td>\n",
       "      <td>0.0</td>\n",
       "    </tr>\n",
       "  </tbody>\n",
       "</table>\n",
       "<p>5 rows × 785 columns</p>\n",
       "</div>"
      ],
      "text/plain": [
       "   7  0  0.1  0.2  0.3  0.4  0.5  0.6  0.7  0.8  ...  0.658  0.659  0.660  \\\n",
       "0  2  0    0    0    0    0    0  0.0  0.0  0.0  ...    0.0    0.0    0.0   \n",
       "1  1  0    0    0    0    0    0  0.0  0.0  0.0  ...    0.0    0.0    0.0   \n",
       "2  0  0    0    0    0    0    0  0.0  0.0  0.0  ...    0.0    0.0    0.0   \n",
       "3  4  0    0    0    0    0    0  0.0  0.0  0.0  ...    0.0    0.0    0.0   \n",
       "4  1  0    0    0    0    0    0  0.0  0.0  0.0  ...    0.0    0.0    0.0   \n",
       "\n",
       "   0.661  0.662  0.663  0.664  0.665  0.666  0.667  \n",
       "0    0.0    0.0    0.0    0.0    0.0    0.0    0.0  \n",
       "1    0.0    0.0    0.0    0.0    0.0    0.0    0.0  \n",
       "2    0.0    0.0    0.0    0.0    0.0    0.0    0.0  \n",
       "3    0.0    0.0    0.0    0.0    0.0    0.0    0.0  \n",
       "4    0.0    0.0    0.0    0.0    0.0    0.0    0.0  \n",
       "\n",
       "[5 rows x 785 columns]"
      ]
     },
     "execution_count": 4,
     "metadata": {},
     "output_type": "execute_result"
    }
   ],
   "source": [
    "test_df.head()"
   ]
  },
  {
   "cell_type": "markdown",
   "id": "bronze-midwest",
   "metadata": {},
   "source": [
    "# **Arranging the training dataset**"
   ]
  },
  {
   "cell_type": "code",
   "execution_count": 5,
   "id": "immediate-worst",
   "metadata": {},
   "outputs": [],
   "source": [
    "x_train = train_df.drop(['6'], axis = 1).values"
   ]
  },
  {
   "cell_type": "code",
   "execution_count": 6,
   "id": "metric-psychiatry",
   "metadata": {},
   "outputs": [
    {
     "name": "stdout",
     "output_type": "stream",
     "text": [
      "[[0 0 0 ... 0 0 0]\n",
      " [0 0 0 ... 0 0 0]\n",
      " [0 0 0 ... 0 0 0]\n",
      " ...\n",
      " [0 0 0 ... 0 0 0]\n",
      " [0 0 0 ... 0 0 0]\n",
      " [0 0 0 ... 0 0 0]]\n",
      "(19999, 784)\n"
     ]
    }
   ],
   "source": [
    "print(x_train)\n",
    "print(x_train.shape)"
   ]
  },
  {
   "cell_type": "code",
   "execution_count": 7,
   "id": "medium-marsh",
   "metadata": {},
   "outputs": [],
   "source": [
    "y1 = train_df['6']\n",
    "y_train = y1.to_numpy()"
   ]
  },
  {
   "cell_type": "code",
   "execution_count": 8,
   "id": "revised-movie",
   "metadata": {},
   "outputs": [
    {
     "name": "stdout",
     "output_type": "stream",
     "text": [
      "[5 7 9 ... 2 9 5]\n",
      "(19999,)\n"
     ]
    }
   ],
   "source": [
    "print(y_train)\n",
    "print(y_train.shape)"
   ]
  },
  {
   "cell_type": "markdown",
   "id": "unusual-coral",
   "metadata": {},
   "source": [
    "# **Arranging the test dataset**"
   ]
  },
  {
   "cell_type": "code",
   "execution_count": 9,
   "id": "forced-radical",
   "metadata": {},
   "outputs": [],
   "source": [
    "x_test = test_df.drop(index = 1942 , columns ='7').values"
   ]
  },
  {
   "cell_type": "code",
   "execution_count": 10,
   "id": "humanitarian-knock",
   "metadata": {},
   "outputs": [
    {
     "name": "stdout",
     "output_type": "stream",
     "text": [
      "[[0. 0. 0. ... 0. 0. 0.]\n",
      " [0. 0. 0. ... 0. 0. 0.]\n",
      " [0. 0. 0. ... 0. 0. 0.]\n",
      " ...\n",
      " [0. 0. 0. ... 0. 0. 0.]\n",
      " [0. 0. 0. ... 0. 0. 0.]\n",
      " [0. 0. 0. ... 0. 0. 0.]]\n",
      "(1942, 784)\n"
     ]
    }
   ],
   "source": [
    "print(x_test)\n",
    "print(x_test.shape)"
   ]
  },
  {
   "cell_type": "code",
   "execution_count": 11,
   "id": "latest-commander",
   "metadata": {},
   "outputs": [],
   "source": [
    "y2 = test_df['7']\n",
    "y_test = y2.drop(index = 1942).values"
   ]
  },
  {
   "cell_type": "code",
   "execution_count": 12,
   "id": "floral-weekly",
   "metadata": {},
   "outputs": [
    {
     "name": "stdout",
     "output_type": "stream",
     "text": [
      "[2 1 0 ... 5 7 8]\n",
      "(1942,)\n"
     ]
    }
   ],
   "source": [
    "print(y_test)\n",
    "print(y_test.shape)"
   ]
  },
  {
   "cell_type": "markdown",
   "id": "ready-latvia",
   "metadata": {},
   "source": [
    "# **Implementation of model**"
   ]
  },
  {
   "cell_type": "code",
   "execution_count": 13,
   "id": "professional-phone",
   "metadata": {},
   "outputs": [
    {
     "data": {
      "text/plain": [
       "array([0, 1, 2, 3, 4, 5, 6, 7, 8, 9])"
      ]
     },
     "execution_count": 13,
     "metadata": {},
     "output_type": "execute_result"
    }
   ],
   "source": [
    "#Collecting unique elements from training labels\n",
    "np.unique(y_train)"
   ]
  },
  {
   "cell_type": "code",
   "execution_count": 14,
   "id": "stylish-provider",
   "metadata": {},
   "outputs": [],
   "source": [
    "#Normalising the features\n",
    "x_train = x_train/255\n",
    "x_test = x_test/255"
   ]
  },
  {
   "cell_type": "code",
   "execution_count": 15,
   "id": "ambient-federal",
   "metadata": {},
   "outputs": [
    {
     "name": "stdout",
     "output_type": "stream",
     "text": [
      "[[0. 0. 0. ... 0. 0. 0.]\n",
      " [0. 0. 0. ... 1. 0. 0.]\n",
      " [0. 0. 0. ... 0. 0. 1.]\n",
      " ...\n",
      " [0. 0. 1. ... 0. 0. 0.]\n",
      " [0. 0. 0. ... 0. 0. 1.]\n",
      " [0. 0. 0. ... 0. 0. 0.]]\n"
     ]
    },
    {
     "data": {
      "text/plain": [
       "(19999, 10)"
      ]
     },
     "execution_count": 15,
     "metadata": {},
     "output_type": "execute_result"
    }
   ],
   "source": [
    "#One hot encoding for training labels\n",
    "y_train_enc = np.zeros([y_train.shape[0], np.unique(y_train).shape[0]])\n",
    "for i in range(np.unique(y_train).shape[0]):\n",
    "    for j in range(0, len(y_train_enc)):\n",
    "        if (y_train[j] == np.unique(y_train)[i]):\n",
    "            y_train_enc[j, i] = 1\n",
    "print (y_train_enc)\n",
    "y_train_enc.shape"
   ]
  },
  {
   "cell_type": "code",
   "execution_count": 16,
   "id": "important-kingdom",
   "metadata": {},
   "outputs": [
    {
     "name": "stdout",
     "output_type": "stream",
     "text": [
      "[[0. 0. 1. ... 0. 0. 0.]\n",
      " [0. 1. 0. ... 0. 0. 0.]\n",
      " [1. 0. 0. ... 0. 0. 0.]\n",
      " ...\n",
      " [0. 0. 0. ... 0. 0. 0.]\n",
      " [0. 0. 0. ... 1. 0. 0.]\n",
      " [0. 0. 0. ... 0. 1. 0.]]\n"
     ]
    },
    {
     "data": {
      "text/plain": [
       "(1942, 10)"
      ]
     },
     "execution_count": 16,
     "metadata": {},
     "output_type": "execute_result"
    }
   ],
   "source": [
    "#One hot encoding for test labels\n",
    "y_test_enc = np.zeros([y_test.shape[0], np.unique(y_test).shape[0]])\n",
    "for i in range(np.unique(y_test).shape[0]):\n",
    "    for j in range(0, len(y_test_enc)):\n",
    "        if (y_test[j] == np.unique(y_test)[i]):\n",
    "            y_test_enc[j, i] = 1\n",
    "print (y_test_enc)\n",
    "y_test_enc.shape"
   ]
  },
  {
   "cell_type": "code",
   "execution_count": 31,
   "id": "interpreted-offering",
   "metadata": {},
   "outputs": [],
   "source": [
    "def init_params():\n",
    "    #A 10*784 array of weights for activation layer\n",
    "    weight_1 = np.random.rand(y_train_enc.shape[1], x_train.shape[1]) - 0.5\n",
    "    \n",
    "    #Bias terms initialisation for activation layer\n",
    "    bias_1 = np.random.rand(y_train_enc.shape[1], 1) - 0.5\n",
    "    \n",
    "    #A 10*10 array of weights for softmax layer\n",
    "    weight_2 = np.random.rand(y_train_enc.shape[1], y_train_enc.shape[1]) - 0.5\n",
    "    \n",
    "    #Bias terms initialisation for softmax layer\n",
    "    bias_2 = np.random.rand(y_train_enc.shape[1], 1) - 0.5\n",
    "    \n",
    "    #A 10*10 array of weights for 2nd softmax layer\n",
    "    weight_3 = np.random.rand(y_train_enc.shape[1], y_train_enc.shape[1]) - 0.5\n",
    "    \n",
    "    #Bias terms initialisation for 2nd softmax layer\n",
    "    bias_3 = np.random.rand(y_train_enc.shape[1], 1) - 0.5\n",
    "    \n",
    "    return weight_1, bias_1, weight_2, bias_2, weight_3, bias_3\n",
    "    \n",
    "def forward_prop(weight_1, bias_1, weight_2, bias_2, weight_3, bias_3, X):\n",
    "    Z1 = weight_1.dot(X.T) + bias_1\n",
    "    A1 = activation_func(Z1)\n",
    "    Z2 = weight_2.dot(A1) + bias_2\n",
    "    A2 = sigmoid(Z2)\n",
    "    Z3 = weight_3.dot(A2) + bias_3\n",
    "    A3 = softmax(Z3)\n",
    "    return Z1, A1, Z2, A2, Z3, A3\n",
    "\n",
    "def backward_prop(Z1, A1, Z2, A2, Z3, A3, weight_1, weight_2, weight_3, bias_3, X, Y):\n",
    "    m = Y.shape[0]\n",
    "\n",
    "    dZ3 = A3 - Y.T\n",
    "    dZ2 = weight_3.T.dot(dZ3) * sigmoid_deriv(Z2)\n",
    "    dZ1 = weight_2.T.dot(dZ2) * activation_deriv(Z1)\n",
    "    \n",
    "    dW1 = 1 / m * dZ1.dot(X)\n",
    "    db1 = 1 / m * np.sum(dZ1)\n",
    "    \n",
    "    dW2 = 1 / m * dZ2.dot(A1.T)\n",
    "    db2 = 1 / m * np.sum(dZ2)\n",
    "    \n",
    "    dW3 = 1 / m * dZ3.dot(A2.T)\n",
    "    db3 = 1 / m * np.sum(dZ3)\n",
    "    \n",
    "    return dW1, db1, dW2, db2, dW3, db3\n",
    "\n",
    "def sigmoid(Z):\n",
    "    return 1/(1 + (np.exp(-Z)))\n",
    "    \n",
    "def sigmoid_deriv(Z):\n",
    "    a = sigmoid(Z)\n",
    "    return a * (1 - a)\n",
    "    \n",
    "def softmax(Z):\n",
    "    A = np.exp(Z) / sum(np.exp(Z))\n",
    "    return A\n",
    "\n",
    "def activation_func(Z):\n",
    "    return np.maximum(Z, 0)\n",
    "\n",
    "def activation_deriv(Z):\n",
    "    return Z > 0\n",
    "\n",
    "def update_params(weight_1, bias_1, weight_2, bias_2, weight_3, bias_3, dW1, db1, dW2, db2, dW3, db3, lr):\n",
    "    weight_1 = weight_1 - lr * dW1\n",
    "    bias_1 = bias_1 - lr * db1\n",
    "    \n",
    "    weight_2 = weight_2 - lr * dW2\n",
    "    bias_2 = bias_2 - lr * db2\n",
    "    \n",
    "    weight_3 = weight_3 - lr * dW3\n",
    "    bias_3 = bias_3 - lr * db3\n",
    "    \n",
    "    return weight_1, bias_1, weight_2, bias_2, weight_3, bias_3\n",
    "\n",
    "def cost_function(X, Y):\n",
    "    s1 = np.multiply(np.log(X), Y.T)\n",
    "    s2 = np.multiply(np.log(1-X), (1-Y.T))\n",
    "    return -np.sum(s1 + s2) / x_train.shape[0]\n",
    "\n",
    "def gradient_descent(X, Y, lr, iterations):\n",
    "    cost = np.zeros(iterations)\n",
    "    weight_1, bias_1, weight_2, bias_2, weight_3, bias_3 = init_params()\n",
    "    for i in range(iterations):\n",
    "        Z1, A1, Z2, A2, Z3, A3 = forward_prop(weight_1, bias_1, weight_2, bias_2, weight_3, bias_3, X)\n",
    "        dW1, db1, dW2, db2, dW3, db3 = backward_prop(Z1, A1, Z2, A2, Z3, A3, weight_1, weight_2, weight_3, bias_3, X, Y)\n",
    "        weight_1, bias_1, weight_2, bias_2, weight_3, bias_3 = update_params(weight_1,bias_1,weight_2, bias_2, weight_3, bias_3, dW1, db1, dW2, db2, dW3, db3, lr)\n",
    "        if i % 100 == 0:\n",
    "            print(\"Iteration: \", i)\n",
    "        cost[i] = cost_function(A3, Y)\n",
    "    return weight_1, bias_1, weight_2, bias_2, weight_3, bias_3, cost"
   ]
  },
  {
   "cell_type": "code",
   "execution_count": 32,
   "id": "textile-cartridge",
   "metadata": {},
   "outputs": [
    {
     "name": "stdout",
     "output_type": "stream",
     "text": [
      "Iteration:  0\n",
      "Iteration:  100\n",
      "Iteration:  200\n",
      "Iteration:  300\n",
      "Iteration:  400\n",
      "Iteration:  500\n",
      "Iteration:  600\n",
      "Iteration:  700\n",
      "Iteration:  800\n",
      "Iteration:  900\n",
      "Iteration:  1000\n",
      "Iteration:  1100\n",
      "Iteration:  1200\n",
      "Iteration:  1300\n",
      "Iteration:  1400\n",
      "Iteration:  1500\n",
      "Iteration:  1600\n",
      "Iteration:  1700\n",
      "Iteration:  1800\n",
      "Iteration:  1900\n",
      "Iteration:  2000\n",
      "Iteration:  2100\n",
      "Iteration:  2200\n",
      "Iteration:  2300\n",
      "Iteration:  2400\n",
      "Iteration:  2500\n",
      "Iteration:  2600\n",
      "Iteration:  2700\n",
      "Iteration:  2800\n",
      "Iteration:  2900\n"
     ]
    }
   ],
   "source": [
    "weight_1, bias_1, weight_2, bias_2, weight_3, bias_3, cost = gradient_descent(x_train, y_train_enc, 0.5, 2950)"
   ]
  },
  {
   "cell_type": "code",
   "execution_count": 33,
   "id": "second-cotton",
   "metadata": {},
   "outputs": [
    {
     "data": {
      "image/png": "[encoded data removed]",
      "text/plain": [
       "<Figure size 432x288 with 1 Axes>"
      ]
     },
     "metadata": {
      "needs_background": "light"
     },
     "output_type": "display_data"
    }
   ],
   "source": [
    "# visualising cost functions after each iteration\n",
    "plt.plot(cost)\n",
    "plt.xlabel(\"Number of iterations\")\n",
    "plt.ylabel(\"Cost\")\n",
    "plt.show()"
   ]
  },
  {
   "cell_type": "code",
   "execution_count": 34,
   "id": "surrounded-toronto",
   "metadata": {},
   "outputs": [],
   "source": [
    "#Z1, A1, Z2, A2, Z3, A3 = forward_prop(weight_1, bias_1, weight_2, bias_2, weight_3, bias_3, x_train)\n",
    "#train_predictions = np.argmax(A3, 0)"
   ]
  },
  {
   "cell_type": "code",
   "execution_count": 35,
   "id": "front-expression",
   "metadata": {},
   "outputs": [],
   "source": [
    "_, _, _, _, _, A3 = forward_prop(weight_1, bias_1, weight_2, bias_2, weight_3, bias_3, x_test)\n",
    "test_predictions = np.argmax(A3, 0)"
   ]
  },
  {
   "cell_type": "code",
   "execution_count": 36,
   "id": "infectious-actress",
   "metadata": {},
   "outputs": [
    {
     "name": "stdout",
     "output_type": "stream",
     "text": [
      "      Actual  Predicted\n",
      "0          2          2\n",
      "1          1          1\n",
      "2          0          0\n",
      "3          4          4\n",
      "4          1          1\n",
      "...      ...        ...\n",
      "1937       4          6\n",
      "1938       1          1\n",
      "1939       5          5\n",
      "1940       7          7\n",
      "1941       8          8\n",
      "\n",
      "[1942 rows x 2 columns]\n"
     ]
    }
   ],
   "source": [
    "y_test = np.reshape(y_test, (1942, 1))\n",
    "test_predictions = np.reshape(test_predictions, (1942, 1))\n",
    "\n",
    "l = np.hstack((y_test, test_predictions))\n",
    "\n",
    "result = pd.DataFrame(l, columns = [\"Actual\", \"Predicted\"])\n",
    "\n",
    "print(result)"
   ]
  },
  {
   "cell_type": "code",
   "execution_count": 37,
   "id": "thermal-booth",
   "metadata": {},
   "outputs": [
    {
     "name": "stdout",
     "output_type": "stream",
     "text": [
      "Accuracy of the model is: 90.88568486096807 %\n"
     ]
    }
   ],
   "source": [
    "from sklearn.metrics import accuracy_score\n",
    "print (\"Accuracy of the model is:\", accuracy_score(test_predictions, y_test)*100, \"%\")"
   ]
  }
 ],
 "metadata": {
  "kernelspec": {
   "display_name": "Python 3",
   "language": "python",
   "name": "python3"
  },
  "language_info": {
   "codemirror_mode": {
    "name": "ipython",
    "version": 3
   },
   "file_extension": ".py",
   "mimetype": "text/x-python",
   "name": "python",
   "nbconvert_exporter": "python",
   "pygments_lexer": "ipython3",
   "version": "3.8.5"
  }
 },
 "nbformat": 4,
 "nbformat_minor": 5
}
